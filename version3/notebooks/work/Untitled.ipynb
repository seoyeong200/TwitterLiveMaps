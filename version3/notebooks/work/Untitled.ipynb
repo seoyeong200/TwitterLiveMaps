{
 "cells": [
  {
   "cell_type": "markdown",
   "id": "90a94287-caf9-45db-b6df-34bc3d4d4ce8",
   "metadata": {},
   "source": [
    "스파크 세선을 성성하고 버전을 확인합니다.\n",
    "상세한 가이드는 Spark Streaming + Kafka Integration Guide (Kafka broker version 0.10.0 or higher) - Spark 3.2.1 Documentation 를 참고 합니다."
   ]
  },
  {
   "cell_type": "code",
   "execution_count": 1,
   "id": "bb52c780-f2e3-49e1-b3b3-628aceb1b41e",
   "metadata": {},
   "outputs": [
    {
     "data": {
      "text/html": [
       "\n",
       "            <div>\n",
       "                <p><b>SparkSession - in-memory</b></p>\n",
       "                \n",
       "        <div>\n",
       "            <p><b>SparkContext</b></p>\n",
       "\n",
       "            <p><a href=\"http://eb0e1741cc2a:4040\">Spark UI</a></p>\n",
       "\n",
       "            <dl>\n",
       "              <dt>Version</dt>\n",
       "                <dd><code>v3.2.1</code></dd>\n",
       "              <dt>Master</dt>\n",
       "                <dd><code>local[*]</code></dd>\n",
       "              <dt>AppName</dt>\n",
       "                <dd><code>pyspark-shell</code></dd>\n",
       "            </dl>\n",
       "        </div>\n",
       "        \n",
       "            </div>\n",
       "        "
      ],
      "text/plain": [
       "<pyspark.sql.session.SparkSession at 0x7f5856bdc340>"
      ]
     },
     "execution_count": 1,
     "metadata": {},
     "output_type": "execute_result"
    }
   ],
   "source": [
    "from pyspark.sql import *\n",
    "from pyspark.sql.functions import *\n",
    "from pyspark.sql.types import *\n",
    "from IPython.display import display, display_pretty, clear_output, JSON\n",
    "\n",
    "spark = (\n",
    "    SparkSession\n",
    "    .builder\n",
    "    .config(\"spark.sql.session.timeZone\", \"Asia/Seoul\")\n",
    "    .getOrCreate()\n",
    ")\n",
    "\n",
    "# 노트북에서 테이블 형태로 데이터 프레임 출력을 위한 설정을 합니다\n",
    "spark.conf.set(\"spark.sql.repl.eagerEval.enabled\", True) # display enabled\n",
    "spark.conf.set(\"spark.sql.repl.eagerEval.truncate\", 100) # display output columns size\n",
    "\n",
    "# 공통 데이터 위치\n",
    "home_jovyan = \"/home/jovyan\"\n",
    "work_data = f\"{home_jovyan}/work/data\"\n",
    "work_dir=!pwd\n",
    "work_dir = work_dir[0]\n",
    "\n",
    "# 로컬 환경 최적화\n",
    "spark.conf.set(\"spark.sql.shuffle.partitions\", 5) # the number of partitions to use when shuffling data for joins or aggregations.\n",
    "spark.conf.set(\"spark.sql.streaming.forceDeleteTempCheckpointLocation\", \"true\")\n",
    "\n",
    "# 현재 기동된 스파크 애플리케이션의 포트를 확인하기 위해 스파크 정보를 출력합니다\n",
    "spark"
   ]
  },
  {
   "cell_type": "markdown",
   "id": "6cb22f4c-1c7d-4ffe-be17-628e6675f4bc",
   "metadata": {},
   "source": [
    "노트북에서 스파크 스트리밍 상태 및 데이터 조회를 위한 함수 선언"
   ]
  },
  {
   "cell_type": "code",
   "execution_count": 2,
   "id": "f6cd3811-296a-48c0-ab80-e68cf5756701",
   "metadata": {},
   "outputs": [],
   "source": [
    "# 스트림 테이블을 주기적으로 조회하는 함수 (name: 이름, sql: Spark SQL, iterations: 반복횟수, sleep_secs: 인터벌)\n",
    "# 기존 출력 cell을 지우고, 이름, 현재 반복 횟수, 현재 수행 쿼리를 출력합니다.\n",
    "# 쿼리 결과를 출력하고 sleep sec초 만큼 대기하는 과정을 iteration 번 반복해서 출력합니다.\n",
    "def displayStream(name, sql, iterations, sleep_secs):\n",
    "    from time import sleep\n",
    "    i = 1\n",
    "    for x in range(iterations):\n",
    "        clear_output(wait=True)              # 출력 Cell clear\n",
    "        display('[' + name + '] Iteration: '+str(i)+', Query: '+sql)\n",
    "        display(spark.sql(sql))              # Spark SQL 수행\n",
    "        sleep(sleep_secs)                    # sleep_secs 초 만큼 대기\n",
    "        i += 1\n",
    "\n",
    "# 스트림 쿼리의 상태를 주기적으로 조회하는 함수 (name: 이름, query: Streaming Query, iterations: 반복횟수, sleep_secs: 인터벌)\n",
    "def displayStatus(name, query, iterations, sleep_secs):\n",
    "    from time import sleep\n",
    "    i = 1\n",
    "    for x in range(iterations):\n",
    "        clear_output(wait=True)      # Output Cell 의 내용을 지웁니다\n",
    "        display('[' + name + '] Iteration: '+str(i)+', Status: '+query.status['message'])\n",
    "        display(query.lastProgress)  # 마지막 수행된 쿼리의 상태를 출력합니다\n",
    "        sleep(sleep_secs)            # 지정된 시간(초)을 대기합니다\n",
    "        i += 1"
   ]
  },
  {
   "cell_type": "markdown",
   "id": "b1e05718-3c18-456d-87dc-7638ca722a18",
   "metadata": {},
   "source": [
    "카프카로부터 메시지 수신을 위한 카프카 리더를 생성합니다\n",
    "earliest 옵션으로 kafka:9093 의 movies 토픽으로 부터 메시지를 읽어와서 데이터 변환을 수행합니다."
   ]
  },
  {
   "cell_type": "code",
   "execution_count": 9,
   "id": "d7950861-c731-48f0-9384-b9128001ae2d",
   "metadata": {},
   "outputs": [
    {
     "name": "stdout",
     "output_type": "stream",
     "text": [
      "root\n",
      " |-- key: binary (nullable = true)\n",
      " |-- value: binary (nullable = true)\n",
      " |-- topic: string (nullable = true)\n",
      " |-- partition: integer (nullable = true)\n",
      " |-- offset: long (nullable = true)\n",
      " |-- timestamp: timestamp (nullable = true)\n",
      " |-- timestampType: integer (nullable = true)\n",
      "\n"
     ]
    }
   ],
   "source": [
    "# kafkaReader 생성 (spark.readStream) -> 카프카에서 메세지 수신\n",
    "# server.properties > advertised.listeners=INSIDE://kafka:9093,OUTSIDE://localhost:9092\n",
    "\n",
    "kafkaReader = (\n",
    "    spark\n",
    "  .readStream\n",
    "  .format(\"kafka\")\n",
    "  .option(\"kafka.bootstrap.servers\", \"kafka:9093\")\n",
    "  .option(\"subscribe\", \"movies\")\n",
    "  .option(\"startingOffsets\", \"earliest\")\n",
    "  .load()\n",
    ")\n",
    "kafkaReader.printSchema()\n"
   ]
  },
  {
   "cell_type": "code",
   "execution_count": null,
   "id": "d0b72766-5d39-4c88-9971-2306d8292868",
   "metadata": {},
   "outputs": [],
   "source": [
    "들어오는 데이터 스키마를 명시적으로 정의해줍니다.\n",
    "KafkaSelector 를 추가해서 카프카에서 읽어들인 데이터(KafkaReader)에서 key 컬럼 추가하고"
   ]
  },
  {
   "cell_type": "code",
   "execution_count": 16,
   "id": "31f545c6-bb2f-4026-b7a8-8d2d05345b2e",
   "metadata": {},
   "outputs": [
    {
     "name": "stdout",
     "output_type": "stream",
     "text": [
      "root\n",
      " |-- key: string (nullable = true)\n",
      " |-- value: string (nullable = true)\n",
      "\n"
     ]
    }
   ],
   "source": [
    "kafkaSchema = (\n",
    "    StructType()\n",
    "    .add(StructField(\"status\", StringType()))\n",
    "    .add(StructField(\"id\", StringType()))\n",
    "    .add(StructField(\"screen_name\", StringType()))\n",
    "    .add(StructField(\"user_id\", IntegerType()))\n",
    "    .add(StructField(\"profile\", StringType()))\n",
    "    .add(StructField(\"time\", StringType()))\n",
    "    .add(StructField(\"text\", StringType()))\n",
    "    .add(StructField(\"retweet_count\", IntegerType()))\n",
    "    .add(StructField(\"favorite_count\", IntegerType()))\n",
    "    .add(StructField(\"lat\", IntegerType()))\n",
    "    .add(StructField(\"long\", IntegerType()))\n",
    ")\n",
    "\n",
    "kafkaSelector = (\n",
    "    kafkaReader\n",
    "    .select(\n",
    "        col(\"key\").cast(\"string\"),\n",
    "        from_json(col(\"value\").cast(\"string\"), kafkaSchema).alias(\"movies\")\n",
    "    )\n",
    "    .selectExpr(\"movies.id as key\", \"to_json(struct(movies.*)) as value\")\n",
    ")\n",
    "\n",
    "kafkaSelector.printSchema()"
   ]
  },
  {
   "cell_type": "markdown",
   "id": "4d08449a-23c0-4b39-bb13-a8ae73335bcb",
   "metadata": {},
   "source": [
    "디버깅을 위해 임시로 콘솔 출력을 통해 검증합니다\n",
    "스트리밍 데이터는 디버깅이 상당히 어렵기 때문에 새로운 카프카 토픽 혹은 외부에 저장하기 전에 반드시 눈으로 확인해야 합니다\n",
    "\n",
    "위에서 선언한 displayStream 함수를 활용하여 메시지를 읽어서 출력합니다."
   ]
  },
  {
   "cell_type": "code",
   "execution_count": 14,
   "id": "4bad64f5-63f2-4951-bf2c-c516a31845db",
   "metadata": {},
   "outputs": [
    {
     "data": {
      "text/plain": [
       "'[consoleSink3] Iteration: 4, Query: select * from consoleSink3 order by key desc'"
      ]
     },
     "metadata": {},
     "output_type": "display_data"
    },
    {
     "data": {
      "text/html": [
       "<table border='1'>\n",
       "<tr><th>key</th><th>value</th></tr>\n",
       "<tr><td>1582347914386341889</td><td>{&quot;status&quot;:&quot;ORIGINAL&quot;,&quot;id&quot;:&quot;1582347914386341889&quot;,&quot;screen_name&quot;:&quot;rkiveonfilm&quot;,&quot;profile&quot;:&quot;http://pbs...</td></tr>\n",
       "<tr><td>1582347913153302528</td><td>{&quot;status&quot;:&quot;ORIGINAL&quot;,&quot;id&quot;:&quot;1582347913153302528&quot;,&quot;screen_name&quot;:&quot;kookiebunnyjjk7&quot;,&quot;profile&quot;:&quot;http:/...</td></tr>\n",
       "<tr><td>1582347911660072961</td><td>{&quot;status&quot;:&quot;ORIGINAL&quot;,&quot;id&quot;:&quot;1582347911660072961&quot;,&quot;screen_name&quot;:&quot;eriykcal&quot;,&quot;profile&quot;:&quot;http://pbs.tw...</td></tr>\n",
       "<tr><td>1582347910762483712</td><td>{&quot;status&quot;:&quot;ORIGINAL&quot;,&quot;id&quot;:&quot;1582347910762483712&quot;,&quot;screen_name&quot;:&quot;BTSJKSJH&quot;,&quot;profile&quot;:&quot;http://pbs.tw...</td></tr>\n",
       "<tr><td>1582347910716739585</td><td>{&quot;status&quot;:&quot;ORIGINAL&quot;,&quot;id&quot;:&quot;1582347910716739585&quot;,&quot;screen_name&quot;:&quot;minsaybt&quot;,&quot;profile&quot;:&quot;http://pbs.tw...</td></tr>\n",
       "<tr><td>1582347910322475008</td><td>{&quot;status&quot;:&quot;ORIGINAL&quot;,&quot;id&quot;:&quot;1582347910322475008&quot;,&quot;screen_name&quot;:&quot;supewgemoww&quot;,&quot;profile&quot;:&quot;http://pbs...</td></tr>\n",
       "<tr><td>1582347910150094848</td><td>{&quot;status&quot;:&quot;ORIGINAL&quot;,&quot;id&quot;:&quot;1582347910150094848&quot;,&quot;screen_name&quot;:&quot;taetaecutiefufu&quot;,&quot;profile&quot;:&quot;http:/...</td></tr>\n",
       "<tr><td>1582347909726863360</td><td>{&quot;status&quot;:&quot;ORIGINAL&quot;,&quot;id&quot;:&quot;1582347909726863360&quot;,&quot;screen_name&quot;:&quot;Army_ipurpleu09&quot;,&quot;profile&quot;:&quot;http:/...</td></tr>\n",
       "<tr><td>1582347908791164928</td><td>{&quot;status&quot;:&quot;ORIGINAL&quot;,&quot;id&quot;:&quot;1582347908791164928&quot;,&quot;screen_name&quot;:&quot;MIMI_KOKO13&quot;,&quot;profile&quot;:&quot;http://pbs...</td></tr>\n",
       "<tr><td>1582347908690518016</td><td>{&quot;status&quot;:&quot;ORIGINAL&quot;,&quot;id&quot;:&quot;1582347908690518016&quot;,&quot;screen_name&quot;:&quot;Aesthetixxx9&quot;,&quot;profile&quot;:&quot;http://pb...</td></tr>\n",
       "<tr><td>1582347906761494528</td><td>{&quot;status&quot;:&quot;ORIGINAL&quot;,&quot;id&quot;:&quot;1582347906761494528&quot;,&quot;screen_name&quot;:&quot;pereooo&quot;,&quot;profile&quot;:&quot;http://pbs.twi...</td></tr>\n",
       "<tr><td>1582347906664710144</td><td>{&quot;status&quot;:&quot;ORIGINAL&quot;,&quot;id&quot;:&quot;1582347906664710144&quot;,&quot;screen_name&quot;:&quot;shinedream_&quot;,&quot;profile&quot;:&quot;http://pbs...</td></tr>\n",
       "<tr><td>1582347906576941062</td><td>{&quot;status&quot;:&quot;ORIGINAL&quot;,&quot;id&quot;:&quot;1582347906576941062&quot;,&quot;screen_name&quot;:&quot;jdbiebstear&quot;,&quot;profile&quot;:&quot;http://pbs...</td></tr>\n",
       "<tr><td>1582347905989369858</td><td>{&quot;status&quot;:&quot;ORIGINAL&quot;,&quot;id&quot;:&quot;1582347905989369858&quot;,&quot;screen_name&quot;:&quot;vantaegkk&quot;,&quot;profile&quot;:&quot;http://pbs.t...</td></tr>\n",
       "<tr><td>1582347905851006977</td><td>{&quot;status&quot;:&quot;ORIGINAL&quot;,&quot;id&quot;:&quot;1582347905851006977&quot;,&quot;screen_name&quot;:&quot;prettypluuto&quot;,&quot;profile&quot;:&quot;http://pb...</td></tr>\n",
       "<tr><td>1582347905788129280</td><td>{&quot;status&quot;:&quot;ORIGINAL&quot;,&quot;id&quot;:&quot;1582347905788129280&quot;,&quot;screen_name&quot;:&quot;fluffyjimine&quot;,&quot;profile&quot;:&quot;http://pb...</td></tr>\n",
       "<tr><td>1582347904320040960</td><td>{&quot;status&quot;:&quot;ORIGINAL&quot;,&quot;id&quot;:&quot;1582347904320040960&quot;,&quot;screen_name&quot;:&quot;cnthvv&quot;,&quot;profile&quot;:&quot;http://pbs.twim...</td></tr>\n",
       "<tr><td>1582347903313793027</td><td>{&quot;status&quot;:&quot;ORIGINAL&quot;,&quot;id&quot;:&quot;1582347903313793027&quot;,&quot;screen_name&quot;:&quot;HeavenCaye&quot;,&quot;profile&quot;:&quot;http://pbs....</td></tr>\n",
       "<tr><td>1582347902432661505</td><td>{&quot;status&quot;:&quot;ORIGINAL&quot;,&quot;id&quot;:&quot;1582347902432661505&quot;,&quot;screen_name&quot;:&quot;Straystayskids&quot;,&quot;profile&quot;:&quot;http://...</td></tr>\n",
       "<tr><td>1582347900281008129</td><td>{&quot;status&quot;:&quot;ORIGINAL&quot;,&quot;id&quot;:&quot;1582347900281008129&quot;,&quot;screen_name&quot;:&quot;PilarMe88133906&quot;,&quot;profile&quot;:&quot;http:/...</td></tr>\n",
       "</table>\n",
       "only showing top 20 rows\n"
      ],
      "text/plain": [
       "+-------------------+----------------------------------------------------------------------------------------------------+\n",
       "|                key|                                                                                               value|\n",
       "+-------------------+----------------------------------------------------------------------------------------------------+\n",
       "|1582347914386341889|{\"status\":\"ORIGINAL\",\"id\":\"1582347914386341889\",\"screen_name\":\"rkiveonfilm\",\"profile\":\"http://pbs...|\n",
       "|1582347913153302528|{\"status\":\"ORIGINAL\",\"id\":\"1582347913153302528\",\"screen_name\":\"kookiebunnyjjk7\",\"profile\":\"http:/...|\n",
       "|1582347911660072961|{\"status\":\"ORIGINAL\",\"id\":\"1582347911660072961\",\"screen_name\":\"eriykcal\",\"profile\":\"http://pbs.tw...|\n",
       "|1582347910762483712|{\"status\":\"ORIGINAL\",\"id\":\"1582347910762483712\",\"screen_name\":\"BTSJKSJH\",\"profile\":\"http://pbs.tw...|\n",
       "|1582347910716739585|{\"status\":\"ORIGINAL\",\"id\":\"1582347910716739585\",\"screen_name\":\"minsaybt\",\"profile\":\"http://pbs.tw...|\n",
       "|1582347910322475008|{\"status\":\"ORIGINAL\",\"id\":\"1582347910322475008\",\"screen_name\":\"supewgemoww\",\"profile\":\"http://pbs...|\n",
       "|1582347910150094848|{\"status\":\"ORIGINAL\",\"id\":\"1582347910150094848\",\"screen_name\":\"taetaecutiefufu\",\"profile\":\"http:/...|\n",
       "|1582347909726863360|{\"status\":\"ORIGINAL\",\"id\":\"1582347909726863360\",\"screen_name\":\"Army_ipurpleu09\",\"profile\":\"http:/...|\n",
       "|1582347908791164928|{\"status\":\"ORIGINAL\",\"id\":\"1582347908791164928\",\"screen_name\":\"MIMI_KOKO13\",\"profile\":\"http://pbs...|\n",
       "|1582347908690518016|{\"status\":\"ORIGINAL\",\"id\":\"1582347908690518016\",\"screen_name\":\"Aesthetixxx9\",\"profile\":\"http://pb...|\n",
       "|1582347906761494528|{\"status\":\"ORIGINAL\",\"id\":\"1582347906761494528\",\"screen_name\":\"pereooo\",\"profile\":\"http://pbs.twi...|\n",
       "|1582347906664710144|{\"status\":\"ORIGINAL\",\"id\":\"1582347906664710144\",\"screen_name\":\"shinedream_\",\"profile\":\"http://pbs...|\n",
       "|1582347906576941062|{\"status\":\"ORIGINAL\",\"id\":\"1582347906576941062\",\"screen_name\":\"jdbiebstear\",\"profile\":\"http://pbs...|\n",
       "|1582347905989369858|{\"status\":\"ORIGINAL\",\"id\":\"1582347905989369858\",\"screen_name\":\"vantaegkk\",\"profile\":\"http://pbs.t...|\n",
       "|1582347905851006977|{\"status\":\"ORIGINAL\",\"id\":\"1582347905851006977\",\"screen_name\":\"prettypluuto\",\"profile\":\"http://pb...|\n",
       "|1582347905788129280|{\"status\":\"ORIGINAL\",\"id\":\"1582347905788129280\",\"screen_name\":\"fluffyjimine\",\"profile\":\"http://pb...|\n",
       "|1582347904320040960|{\"status\":\"ORIGINAL\",\"id\":\"1582347904320040960\",\"screen_name\":\"cnthvv\",\"profile\":\"http://pbs.twim...|\n",
       "|1582347903313793027|{\"status\":\"ORIGINAL\",\"id\":\"1582347903313793027\",\"screen_name\":\"HeavenCaye\",\"profile\":\"http://pbs....|\n",
       "|1582347902432661505|{\"status\":\"ORIGINAL\",\"id\":\"1582347902432661505\",\"screen_name\":\"Straystayskids\",\"profile\":\"http://...|\n",
       "|1582347900281008129|{\"status\":\"ORIGINAL\",\"id\":\"1582347900281008129\",\"screen_name\":\"PilarMe88133906\",\"profile\":\"http:/...|\n",
       "+-------------------+----------------------------------------------------------------------------------------------------+\n",
       "only showing top 20 rows"
      ]
     },
     "metadata": {},
     "output_type": "display_data"
    }
   ],
   "source": [
    "# 노트북 로그 콘솔로 출력\n",
    "queryName = \"consoleSink3\"\n",
    "kafkaWriter = (\n",
    "    kafkaSelector.select(\"key\", \"value\")\n",
    "    .writeStream\n",
    "    .queryName(queryName)\n",
    "    .format(\"memory\")\n",
    "    .outputMode(\"append\")\n",
    ")\n",
    "\n",
    "checkpointLocation = f\"{work_dir}/tmp/{queryName}\"\n",
    "!rm -rf $checkpointLocation\n",
    "\n",
    "kafkaTrigger = (\n",
    "    kafkaWriter\n",
    "    .trigger(processingTime=\"5 second\")\n",
    "    .option(\"checkpointLocation\", checkpointLocation)\n",
    ")\n",
    "\n",
    "# 파이썬의 경우 콘솔 디버깅이 노트북 표준출력으로 나오기 때문에, 별도 메모리 테이블로 조회\n",
    "kafkaQuery = kafkaTrigger.start()\n",
    "displayStream(queryName, f\"select * from {queryName} order by key desc\", 4, 5)\n",
    "kafkaQuery.stop()"
   ]
  },
  {
   "cell_type": "markdown",
   "id": "1adcad93-89a0-433f-83b3-e913c4363da1",
   "metadata": {},
   "source": [
    "카프카 movies 토픽을 새로운 토픽 korean_movies 로 출력 합니다\n",
    "예제에서는 거의 원본 그대로를 출력하지만, 실제로는 Dimension 테이블과 Join 을 하거나, 데이터 가공 및 변환 등의 Enrich 단계를 수행하며, 우리 예제 에서는 kafkaSelect 부분만 수정하면 됩니다.\n",
    "\n",
    "새로운 토픽 korean_movies 으로 전송을 위해 kafkaWriter 코드만 다시 작성합니다. 출력 모드는 반드시 append 모드로 수행하여"
   ]
  },
  {
   "cell_type": "code",
   "execution_count": null,
   "id": "7bdc35e8-7f6c-4d77-bf26-319edc1b3937",
   "metadata": {},
   "outputs": [],
   "source": [
    "# 카프카로 다시 저장\n",
    "queryName = \"kafkaSink\"\n",
    "kafkaWriter = (\n",
    "    kafkaSelector.select(\"key\", \"value\")\n",
    "    .writeStream\n",
    "    .queryName(queryName)\n",
    "    .format(\"kafka\")\n",
    "    .option(\"kafka.bootstrap.servers\", \"카프카주소:카프카포트\")\n",
    "    .option(\"topic\", \"저장대상카프카토픽\")\n",
    "    .outputMode(\"출력모드\")\n",
    ")\n",
    "\n",
    "checkpointLocation = f\"{work_dir}/tmp/{queryName}\"\n",
    "!rm -rf $checkpointLocation\n",
    "\n",
    "kafkaTrigger = (\n",
    "    kafkaWriter\n",
    "    .trigger(processingTime=\"5 seconds\")\n",
    "    .option(\"checkpointLocation\", checkpointLocation)\n",
    ")\n",
    "\n",
    "kafkaQuery = kafkaTrigger.start()\n",
    "displayStatus(queryName, kafkaQuery, 1000, 10)\n",
    "kafkaQuery.stop()"
   ]
  },
  {
   "cell_type": "code",
   "execution_count": null,
   "id": "0fb42ff0-b07a-4359-a9ed-4ad29426390a",
   "metadata": {},
   "outputs": [],
   "source": []
  },
  {
   "cell_type": "code",
   "execution_count": null,
   "id": "e32cbe2f-b189-42dc-b606-b889d7560138",
   "metadata": {},
   "outputs": [],
   "source": []
  }
 ],
 "metadata": {
  "kernelspec": {
   "display_name": "Python 3 (ipykernel)",
   "language": "python",
   "name": "python3"
  },
  "language_info": {
   "codemirror_mode": {
    "name": "ipython",
    "version": 3
   },
   "file_extension": ".py",
   "mimetype": "text/x-python",
   "name": "python",
   "nbconvert_exporter": "python",
   "pygments_lexer": "ipython3",
   "version": "3.9.12"
  }
 },
 "nbformat": 4,
 "nbformat_minor": 5
}
