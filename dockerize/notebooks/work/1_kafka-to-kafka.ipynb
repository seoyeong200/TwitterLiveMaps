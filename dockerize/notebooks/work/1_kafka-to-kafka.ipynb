{
 "cells": [
  {
   "cell_type": "markdown",
   "id": "4d1aa9c9-4ab6-427e-878a-ff3c3a4ba3f7",
   "metadata": {},
   "source": [
    "# 스파크 스트리밍 실습 : 카프카 스트리밍 애플리케이션\n",
    "\n",
    "> 플루언트디를 통해 생성된 `movies` 토픽의 메시지를 스파크 스트리밍 애플리케이션을 통해 `kor_movies` 토픽으로 저장합니다\n",
    "\n",
    "## 학습 목표\n",
    "* `Kafka`에 저장된 스트리밍 데이터를 처리합니다\n",
    "  - 카프카 메시지 프로듀서를 통해서 카프카에 스트림 데이터를 생성합니다\n",
    "* [Streaming Kafka Application](https://spark.apache.org/docs/3.2.1/streaming-kafka-0-10-integration.html) 예제 참고하여 개발 합니다.\n",
    "\n",
    "\n",
    "## 참고 사항\n",
    "> [Streaming update trait SupportsStreamingUpdate from Spark 3.0.0 has been renamed to SupportsStreamingUpdateAsAppend in Spark 3.1.0.](https://enterprise.aerospike.com/enterprise/download/connectors/aerospike-spark/notes.html) 에서 보면 클래스 이름이 변경되면서 발생하는 오류 \n",
    "* 스파크 버전을 3.0.0 버전으로 낮추는 방법도 있으나, /usr/local/spark/jars 경로에 있는 kafka-streaming 버전이 3.0.0 버전이라 발생\n",
    "* 해당 버전을 패치하면서 jars 추가 하여 다시 빌드하였으나 이번에는 requirements.txt 파일에 pyspark 버전이 올라가면서 다른 오류 발생\n",
    "* requirements.txt 파일을 data-engineer-notebook:1.7.2 버전 기준으로 requirements.txt 파일 버전을 명시해서 다시 빌드 하여 해결\n"
   ]
  },
  {
   "cell_type": "code",
   "execution_count": 1,
   "id": "0f046099-c4cd-4452-88b0-6bb6a1a84bfb",
   "metadata": {},
   "outputs": [
    {
     "data": {
      "text/html": [
       "\n",
       "            <div>\n",
       "                <p><b>SparkSession - in-memory</b></p>\n",
       "                \n",
       "        <div>\n",
       "            <p><b>SparkContext</b></p>\n",
       "\n",
       "            <p><a href=\"http://8517e9a59be6:4040\">Spark UI</a></p>\n",
       "\n",
       "            <dl>\n",
       "              <dt>Version</dt>\n",
       "                <dd><code>v3.2.1</code></dd>\n",
       "              <dt>Master</dt>\n",
       "                <dd><code>local[*]</code></dd>\n",
       "              <dt>AppName</dt>\n",
       "                <dd><code>pyspark-shell</code></dd>\n",
       "            </dl>\n",
       "        </div>\n",
       "        \n",
       "            </div>\n",
       "        "
      ],
      "text/plain": [
       "<pyspark.sql.session.SparkSession at 0x7fc46c133580>"
      ]
     },
     "execution_count": 1,
     "metadata": {},
     "output_type": "execute_result"
    }
   ],
   "source": [
    "from pyspark.sql import *\n",
    "from pyspark.sql.functions import *\n",
    "from pyspark.sql.types import *\n",
    "from IPython.display import display, display_pretty, clear_output, JSON\n",
    "\n",
    "spark = (\n",
    "    SparkSession\n",
    "    .builder\n",
    "    .config(\"spark.sql.session.timeZone\", \"Asia/Seoul\")\n",
    "    .getOrCreate()\n",
    ")\n",
    "\n",
    "# 노트북에서 테이블 형태로 데이터 프레임 출력을 위한 설정을 합니다\n",
    "spark.conf.set(\"spark.sql.repl.eagerEval.enabled\", True) # display enabled\n",
    "spark.conf.set(\"spark.sql.repl.eagerEval.truncate\", 100) # display output columns size\n",
    "\n",
    "# 공통 데이터 위치\n",
    "home_jovyan = \"/home/jovyan\"\n",
    "work_data = f\"{home_jovyan}/work/data\"\n",
    "work_dir=!pwd\n",
    "work_dir = work_dir[0]\n",
    "\n",
    "# 로컬 환경 최적화\n",
    "spark.conf.set(\"spark.sql.shuffle.partitions\", 5) # the number of partitions to use when shuffling data for joins or aggregations.\n",
    "spark.conf.set(\"spark.sql.streaming.forceDeleteTempCheckpointLocation\", \"true\")\n",
    "\n",
    "# 현재 기동된 스파크 애플리케이션의 포트를 확인하기 위해 스파크 정보를 출력합니다\n",
    "spark"
   ]
  },
  {
   "cell_type": "code",
   "execution_count": 2,
   "id": "81499815-32b5-4d70-a020-44867d336fa6",
   "metadata": {},
   "outputs": [],
   "source": [
    "# 스트림 테이블을 주기적으로 조회하는 함수 (name: 이름, sql: Spark SQL, iterations: 반복횟수, sleep_secs: 인터벌)\n",
    "def displayStream(name, sql, iterations, sleep_secs):\n",
    "    from time import sleep\n",
    "    i = 1\n",
    "    for x in range(iterations):\n",
    "        clear_output(wait=True)              # 출력 Cell 을 지웁니다\n",
    "        display('[' + name + '] Iteration: '+str(i)+', Query: '+sql)\n",
    "        display(spark.sql(sql))              # Spark SQL 을 수행합니다\n",
    "        sleep(sleep_secs)                    # sleep_secs 초 만큼 대기합니다\n",
    "        i += 1\n",
    "\n",
    "# 스트림 쿼리의 상태를 주기적으로 조회하는 함수 (name: 이름, query: Streaming Query, iterations: 반복횟수, sleep_secs: 인터벌)\n",
    "def displayStatus(name, query, iterations, sleep_secs):\n",
    "    from time import sleep\n",
    "    i = 1\n",
    "    for x in range(iterations):\n",
    "        clear_output(wait=True)      # Output Cell 의 내용을 지웁니다\n",
    "        display('[' + name + '] Iteration: '+str(i)+', Status: '+query.status['message'])\n",
    "        display(query.lastProgress)  # 마지막 수행된 쿼리의 상태를 출력합니다\n",
    "        sleep(sleep_secs)            # 지정된 시간(초)을 대기합니다\n",
    "        i += 1"
   ]
  },
  {
   "cell_type": "code",
   "execution_count": 3,
   "id": "952a8f5f-5475-4405-98bd-53479db85a51",
   "metadata": {},
   "outputs": [
    {
     "name": "stdout",
     "output_type": "stream",
     "text": [
      "root\n",
      " |-- key: binary (nullable = true)\n",
      " |-- value: binary (nullable = true)\n",
      " |-- topic: string (nullable = true)\n",
      " |-- partition: integer (nullable = true)\n",
      " |-- offset: long (nullable = true)\n",
      " |-- timestamp: timestamp (nullable = true)\n",
      " |-- timestampType: integer (nullable = true)\n",
      "\n",
      "root\n",
      " |-- key: string (nullable = true)\n",
      " |-- value: string (nullable = true)\n",
      "\n"
     ]
    }
   ],
   "source": [
    "kafkaReader = spark \\\n",
    "  .readStream \\\n",
    "  .format(\"kafka\") \\\n",
    "  .option(\"kafka.bootstrap.servers\", \"kafka:9093\") \\\n",
    "  .option(\"subscribe\", \"movies\") \\\n",
    "  .option(\"startingOffsets\", \"earliest\") \\\n",
    "  .load()\n",
    "\n",
    "kafkaReader.printSchema()\n",
    "\n",
    "# {\"movie\":\"10225\",\"title\":\"핑크 팬더 6 - 핑크 팬더의 추적\",\"title_eng\":\"Trail Of The Pink Panther , 1982\",\"year\":0,\"grade\":\"PG\",\"time\":\"2022-07-17 04:19:42\"}\n",
    "kafkaSchema = (\n",
    "    StructType()\n",
    "    .add(StructField(\"movie\", StringType()))\n",
    "    .add(StructField(\"title\", StringType()))\n",
    "    .add(StructField(\"title_eng\", StringType()))\n",
    "    .add(StructField(\"year\", IntegerType()))\n",
    "    .add(StructField(\"grade\", StringType()))\n",
    "    .add(StructField(\"time\", StringType()))\n",
    ")\n",
    "\n",
    "# root\n",
    "#  |-- key: binary (nullable = true)\n",
    "#  |-- value: binary (nullable = true)\n",
    "#  |-- topic: string (nullable = true)\n",
    "#  |-- partition: integer (nullable = true)\n",
    "#  |-- offset: long (nullable = true)\n",
    "#  |-- timestamp: timestamp (nullable = true)\n",
    "#  |-- timestampType: integer (nullable = true)\n",
    "\n",
    "kafkaSelector = (\n",
    "    kafkaReader\n",
    "    .select(\n",
    "        col(\"key\").cast(\"string\"),\n",
    "        from_json(col(\"value\").cast(\"string\"), kafkaSchema).alias(\"movies\")\n",
    "    )\n",
    "    # .selectExpr(\"movies.title as title\", \"movies.year as year\")\n",
    "    .selectExpr(\"movies.movie as key\", \"to_json(struct(movies.*)) as value\")\n",
    ")\n",
    "\n",
    "kafkaSelector.printSchema()\n",
    "\n",
    "# root\n",
    "#  |-- title: string (nullable = true)\n",
    "#  |-- year: integer (nullable = true)\n"
   ]
  },
  {
   "cell_type": "code",
   "execution_count": 4,
   "id": "5e9b9b93-b4fc-4026-b78c-57691c88d374",
   "metadata": {},
   "outputs": [
    {
     "data": {
      "text/plain": [
       "'[consoleSink] Iteration: 5, Query: select * from consoleSink'"
      ]
     },
     "metadata": {},
     "output_type": "display_data"
    },
    {
     "data": {
      "text/html": [
       "<table border='1'>\n",
       "<tr><th>key</th><th>value</th></tr>\n",
       "<tr><td>movie</td><td>{&quot;movie&quot;:&quot;movie&quot;,&quot;title&quot;:&quot;title&quot;,&quot;title_eng&quot;:&quot;title_eng&quot;,&quot;year&quot;:0,&quot;grade&quot;:&quot;grade&quot;}</td></tr>\n",
       "<tr><td>10001</td><td>{&quot;movie&quot;:&quot;10001&quot;,&quot;title&quot;:&quot;시네마 천국&quot;,&quot;title_eng&quot;:&quot;Cinema Paradiso , 1988&quot;,&quot;year&quot;:2013,&quot;grade&quot;:&quot;전체 관람가&quot;}</td></tr>\n",
       "<tr><td>10002</td><td>{&quot;movie&quot;:&quot;10002&quot;,&quot;title&quot;:&quot;빽 투 더 퓨쳐&quot;,&quot;title_eng&quot;:&quot;Back To The Future , 1985&quot;,&quot;year&quot;:2015,&quot;grade&quot;:&quot;...</td></tr>\n",
       "<tr><td>10003</td><td>{&quot;movie&quot;:&quot;10003&quot;,&quot;title&quot;:&quot;빽 투 더 퓨쳐 2&quot;,&quot;title_eng&quot;:&quot;Back To The Future Part 2 , 1989&quot;,&quot;year&quot;:2015,...</td></tr>\n",
       "<tr><td>10004</td><td>{&quot;movie&quot;:&quot;10004&quot;,&quot;title&quot;:&quot;빽 투 더 퓨쳐 3&quot;,&quot;title_eng&quot;:&quot;Back To The Future Part III , 1990&quot;,&quot;year&quot;:199...</td></tr>\n",
       "<tr><td>10005</td><td>{&quot;movie&quot;:&quot;10005&quot;,&quot;title&quot;:&quot;스타워즈 에피소드 4 - 새로운 희망&quot;,&quot;title_eng&quot;:&quot;Star Wars , 1977&quot;,&quot;year&quot;:1997,&quot;grade...</td></tr>\n",
       "<tr><td>10006</td><td>{&quot;movie&quot;:&quot;10006&quot;,&quot;title&quot;:&quot;스타워즈 에피소드 5 - 제국의 역습&quot;,&quot;title_eng&quot;:&quot;Star Wars Episode V: The Empire Stri...</td></tr>\n",
       "<tr><td>10007</td><td>{&quot;movie&quot;:&quot;10007&quot;,&quot;title&quot;:&quot;스타워즈 에피소드 6 - 제다이의 귀환&quot;,&quot;title_eng&quot;:&quot;Star Wars: Episode VI: Return Of Th...</td></tr>\n",
       "<tr><td>10008</td><td>{&quot;movie&quot;:&quot;10008&quot;,&quot;title&quot;:&quot;슈퍼맨&quot;,&quot;title_eng&quot;:&quot;Superman , 1978&quot;,&quot;year&quot;:1979,&quot;grade&quot;:&quot;PG&quot;}</td></tr>\n",
       "<tr><td>10009</td><td>{&quot;movie&quot;:&quot;10009&quot;,&quot;title&quot;:&quot;슈퍼맨 2&quot;,&quot;title_eng&quot;:&quot;Superman II , 1980&quot;,&quot;year&quot;:1981,&quot;grade&quot;:&quot;PG&quot;}</td></tr>\n",
       "<tr><td>10010</td><td>{&quot;movie&quot;:&quot;10010&quot;,&quot;title&quot;:&quot;슈퍼맨 3&quot;,&quot;title_eng&quot;:&quot;Superman III , 1983&quot;,&quot;year&quot;:0,&quot;grade&quot;:&quot;전체 관람가&quot;}</td></tr>\n",
       "<tr><td>10011</td><td>{&quot;movie&quot;:&quot;10011&quot;,&quot;title&quot;:&quot;슈퍼맨 4 - 최강의 적&quot;,&quot;title_eng&quot;:&quot;Superman IV: The Quest For Peace , 1987&quot;,&quot;y...</td></tr>\n",
       "<tr><td>10012</td><td>{&quot;movie&quot;:&quot;10012&quot;,&quot;title&quot;:&quot;다이 하드&quot;,&quot;title_eng&quot;:&quot;Die Hard , 1988&quot;,&quot;year&quot;:1988,&quot;grade&quot;:&quot;15세 관람가&quot;}</td></tr>\n",
       "<tr><td>10013</td><td>{&quot;movie&quot;:&quot;10013&quot;,&quot;title&quot;:&quot;킹콩&quot;,&quot;title_eng&quot;:&quot;King Kong , 1976&quot;,&quot;year&quot;:1977,&quot;grade&quot;:&quot;12세 관람가&quot;}</td></tr>\n",
       "<tr><td>10014</td><td>{&quot;movie&quot;:&quot;10014&quot;,&quot;title&quot;:&quot;금지된 장난&quot;,&quot;title_eng&quot;:&quot;Jeux Interdits , Forbidden Games , 1952&quot;,&quot;year&quot;:19...</td></tr>\n",
       "<tr><td>10015</td><td>{&quot;movie&quot;:&quot;10015&quot;,&quot;title&quot;:&quot;타워링&quot;,&quot;title_eng&quot;:&quot;The Towering Inferno , 1974&quot;,&quot;year&quot;:2012,&quot;grade&quot;:&quot;PG&quot;}</td></tr>\n",
       "<tr><td>10016</td><td>{&quot;movie&quot;:&quot;10016&quot;,&quot;title&quot;:&quot;나 홀로 집에&quot;,&quot;title_eng&quot;:&quot;Home Alone , 1990&quot;,&quot;year&quot;:1991,&quot;grade&quot;:&quot;전체 관람가&quot;}</td></tr>\n",
       "<tr><td>10017</td><td>{&quot;movie&quot;:&quot;10017&quot;,&quot;title&quot;:&quot;셰인&quot;,&quot;title_eng&quot;:&quot;Shane , 1953&quot;,&quot;year&quot;:1956,&quot;grade&quot;:&quot;NR&quot;}</td></tr>\n",
       "<tr><td>10018</td><td>{&quot;movie&quot;:&quot;10018&quot;,&quot;title&quot;:&quot;이티&quot;,&quot;title_eng&quot;:&quot;The Extra-Terrestrial , E.T. , 1982&quot;,&quot;year&quot;:2011,&quot;grad...</td></tr>\n",
       "<tr><td>10019</td><td>{&quot;movie&quot;:&quot;10019&quot;,&quot;title&quot;:&quot;내일을 향해 쏴라&quot;,&quot;title_eng&quot;:&quot;Butch Cassidy And The Sundance Kid , 1969&quot;,&quot;yea...</td></tr>\n",
       "</table>\n",
       "only showing top 20 rows\n"
      ],
      "text/plain": [
       "+-----+------------------------------------------------------------------------------------------------------------------+\n",
       "|  key|                                                                                                             value|\n",
       "+-----+------------------------------------------------------------------------------------------------------------------+\n",
       "|movie|                                {\"movie\":\"movie\",\"title\":\"title\",\"title_eng\":\"title_eng\",\"year\":0,\"grade\":\"grade\"}|\n",
       "|10001|    {\"movie\":\"10001\",\"title\":\"시네마 천국\",\"title_eng\":\"Cinema Paradiso , 1988\",\"year\":2013,\"grade\":\"전체 관람가\"}|\n",
       "|10002|         {\"movie\":\"10002\",\"title\":\"빽 투 더 퓨쳐\",\"title_eng\":\"Back To The Future , 1985\",\"year\":2015,\"grade\":\"...|\n",
       "|10003|         {\"movie\":\"10003\",\"title\":\"빽 투 더 퓨쳐 2\",\"title_eng\":\"Back To The Future Part 2 , 1989\",\"year\":2015,...|\n",
       "|10004|         {\"movie\":\"10004\",\"title\":\"빽 투 더 퓨쳐 3\",\"title_eng\":\"Back To The Future Part III , 1990\",\"year\":199...|\n",
       "|10005| {\"movie\":\"10005\",\"title\":\"스타워즈 에피소드 4 - 새로운 희망\",\"title_eng\":\"Star Wars , 1977\",\"year\":1997,\"grade...|\n",
       "|10006| {\"movie\":\"10006\",\"title\":\"스타워즈 에피소드 5 - 제국의 역습\",\"title_eng\":\"Star Wars Episode V: The Empire Stri...|\n",
       "|10007|{\"movie\":\"10007\",\"title\":\"스타워즈 에피소드 6 - 제다이의 귀환\",\"title_eng\":\"Star Wars: Episode VI: Return Of Th...|\n",
       "|10008|                         {\"movie\":\"10008\",\"title\":\"슈퍼맨\",\"title_eng\":\"Superman , 1978\",\"year\":1979,\"grade\":\"PG\"}|\n",
       "|10009|                    {\"movie\":\"10009\",\"title\":\"슈퍼맨 2\",\"title_eng\":\"Superman II , 1980\",\"year\":1981,\"grade\":\"PG\"}|\n",
       "|10010|             {\"movie\":\"10010\",\"title\":\"슈퍼맨 3\",\"title_eng\":\"Superman III , 1983\",\"year\":0,\"grade\":\"전체 관람가\"}|\n",
       "|10011|       {\"movie\":\"10011\",\"title\":\"슈퍼맨 4 - 최강의 적\",\"title_eng\":\"Superman IV: The Quest For Peace , 1987\",\"y...|\n",
       "|10012|             {\"movie\":\"10012\",\"title\":\"다이 하드\",\"title_eng\":\"Die Hard , 1988\",\"year\":1988,\"grade\":\"15세 관람가\"}|\n",
       "|10013|                 {\"movie\":\"10013\",\"title\":\"킹콩\",\"title_eng\":\"King Kong , 1976\",\"year\":1977,\"grade\":\"12세 관람가\"}|\n",
       "|10014|         {\"movie\":\"10014\",\"title\":\"금지된 장난\",\"title_eng\":\"Jeux Interdits , Forbidden Games , 1952\",\"year\":19...|\n",
       "|10015|             {\"movie\":\"10015\",\"title\":\"타워링\",\"title_eng\":\"The Towering Inferno , 1974\",\"year\":2012,\"grade\":\"PG\"}|\n",
       "|10016|        {\"movie\":\"10016\",\"title\":\"나 홀로 집에\",\"title_eng\":\"Home Alone , 1990\",\"year\":1991,\"grade\":\"전체 관람가\"}|\n",
       "|10017|                              {\"movie\":\"10017\",\"title\":\"셰인\",\"title_eng\":\"Shane , 1953\",\"year\":1956,\"grade\":\"NR\"}|\n",
       "|10018|            {\"movie\":\"10018\",\"title\":\"이티\",\"title_eng\":\"The Extra-Terrestrial , E.T. , 1982\",\"year\":2011,\"grad...|\n",
       "|10019|       {\"movie\":\"10019\",\"title\":\"내일을 향해 쏴라\",\"title_eng\":\"Butch Cassidy And The Sundance Kid , 1969\",\"yea...|\n",
       "+-----+------------------------------------------------------------------------------------------------------------------+\n",
       "only showing top 20 rows"
      ]
     },
     "metadata": {},
     "output_type": "display_data"
    }
   ],
   "source": [
    "# 노트북 로그 콘솔로 출력\n",
    "\n",
    "queryName = \"consoleSink\"\n",
    "kafkaWriter = (\n",
    "    kafkaSelector.select(\"key\", \"value\")\n",
    "    .writeStream\n",
    "    .queryName(queryName)\n",
    "    .format(\"memory\")\n",
    "    .outputMode(\"append\")\n",
    ")\n",
    "\n",
    "checkpointLocation = f\"{work_dir}/tmp/{queryName}\"\n",
    "!rm -rf $checkpointLocation\n",
    "\n",
    "kafkaTrigger = (\n",
    "    kafkaWriter\n",
    "    .trigger(processingTime=\"5 second\")\n",
    "    .option(\"checkpointLocation\", checkpointLocation)\n",
    ")\n",
    "\n",
    "kafkaQuery = kafkaTrigger.start()\n",
    "\n",
    "# 파이썬의 경우 콘솔 디버깅이 노트북 표준출력으로 나오기 때문에, 별도 메모리 테이블로 조회\n",
    "displayStream(queryName, f\"select * from {queryName} order by key desc\", 4, 5)\n",
    "kafkaQuery.stop()"
   ]
  },
  {
   "cell_type": "code",
   "execution_count": 4,
   "id": "167c694e-50cb-42b5-a4dd-991926a510ec",
   "metadata": {},
   "outputs": [
    {
     "data": {
      "text/plain": [
       "'[kafkaSink] Iteration: 55, Status: Waiting for next trigger'"
      ]
     },
     "metadata": {},
     "output_type": "display_data"
    },
    {
     "data": {
      "text/plain": [
       "{'id': '44b5d609-99e3-4728-968b-4449bae9012d',\n",
       " 'runId': '64e20cbf-9a01-411a-a322-ee76d50e6aaa',\n",
       " 'name': 'kafkaSink',\n",
       " 'timestamp': '2022-07-17T07:48:25.000Z',\n",
       " 'batchId': 54,\n",
       " 'numInputRows': 10,\n",
       " 'inputRowsPerSecond': 2.0,\n",
       " 'processedRowsPerSecond': 14.88095238095238,\n",
       " 'durationMs': {'addBatch': 543,\n",
       "  'getBatch': 0,\n",
       "  'latestOffset': 3,\n",
       "  'queryPlanning': 8,\n",
       "  'triggerExecution': 672,\n",
       "  'walCommit': 54},\n",
       " 'stateOperators': [],\n",
       " 'sources': [{'description': 'KafkaV2[Subscribe[movies]]',\n",
       "   'startOffset': {'movies': {'0': 646}},\n",
       "   'endOffset': {'movies': {'0': 656}},\n",
       "   'latestOffset': {'movies': {'0': 656}},\n",
       "   'numInputRows': 10,\n",
       "   'inputRowsPerSecond': 2.0,\n",
       "   'processedRowsPerSecond': 14.88095238095238,\n",
       "   'metrics': {'avgOffsetsBehindLatest': '0.0',\n",
       "    'maxOffsetsBehindLatest': '0',\n",
       "    'minOffsetsBehindLatest': '0'}}],\n",
       " 'sink': {'description': 'org.apache.spark.sql.kafka010.KafkaSourceProvider$KafkaTable@77c87b5a',\n",
       "  'numOutputRows': 10}}"
      ]
     },
     "metadata": {},
     "output_type": "display_data"
    },
    {
     "ename": "KeyboardInterrupt",
     "evalue": "",
     "output_type": "error",
     "traceback": [
      "\u001b[0;31m---------------------------------------------------------------------------\u001b[0m",
      "\u001b[0;31mKeyboardInterrupt\u001b[0m                         Traceback (most recent call last)",
      "Input \u001b[0;32mIn [4]\u001b[0m, in \u001b[0;36m<cell line: 25>\u001b[0;34m()\u001b[0m\n\u001b[1;32m     17\u001b[0m kafkaTrigger \u001b[38;5;241m=\u001b[39m (\n\u001b[1;32m     18\u001b[0m     kafkaWriter\n\u001b[1;32m     19\u001b[0m     \u001b[38;5;241m.\u001b[39mtrigger(processingTime\u001b[38;5;241m=\u001b[39m\u001b[38;5;124m\"\u001b[39m\u001b[38;5;124m5 second\u001b[39m\u001b[38;5;124m\"\u001b[39m)\n\u001b[1;32m     20\u001b[0m     \u001b[38;5;241m.\u001b[39moption(\u001b[38;5;124m\"\u001b[39m\u001b[38;5;124mcheckpointLocation\u001b[39m\u001b[38;5;124m\"\u001b[39m, checkpointLocation)\n\u001b[1;32m     21\u001b[0m )\n\u001b[1;32m     23\u001b[0m kafkaQuery \u001b[38;5;241m=\u001b[39m kafkaTrigger\u001b[38;5;241m.\u001b[39mstart()\n\u001b[0;32m---> 25\u001b[0m \u001b[43mdisplayStatus\u001b[49m\u001b[43m(\u001b[49m\u001b[43mqueryName\u001b[49m\u001b[43m,\u001b[49m\u001b[43m \u001b[49m\u001b[43mkafkaQuery\u001b[49m\u001b[43m,\u001b[49m\u001b[43m \u001b[49m\u001b[38;5;241;43m100\u001b[39;49m\u001b[43m,\u001b[49m\u001b[43m \u001b[49m\u001b[38;5;241;43m10\u001b[39;49m\u001b[43m)\u001b[49m\n\u001b[1;32m     26\u001b[0m kafkaQuery\u001b[38;5;241m.\u001b[39mstop()\n",
      "Input \u001b[0;32mIn [2]\u001b[0m, in \u001b[0;36mdisplayStatus\u001b[0;34m(name, query, iterations, sleep_secs)\u001b[0m\n\u001b[1;32m     18\u001b[0m display(\u001b[38;5;124m'\u001b[39m\u001b[38;5;124m[\u001b[39m\u001b[38;5;124m'\u001b[39m \u001b[38;5;241m+\u001b[39m name \u001b[38;5;241m+\u001b[39m \u001b[38;5;124m'\u001b[39m\u001b[38;5;124m] Iteration: \u001b[39m\u001b[38;5;124m'\u001b[39m\u001b[38;5;241m+\u001b[39m\u001b[38;5;28mstr\u001b[39m(i)\u001b[38;5;241m+\u001b[39m\u001b[38;5;124m'\u001b[39m\u001b[38;5;124m, Status: \u001b[39m\u001b[38;5;124m'\u001b[39m\u001b[38;5;241m+\u001b[39mquery\u001b[38;5;241m.\u001b[39mstatus[\u001b[38;5;124m'\u001b[39m\u001b[38;5;124mmessage\u001b[39m\u001b[38;5;124m'\u001b[39m])\n\u001b[1;32m     19\u001b[0m display(query\u001b[38;5;241m.\u001b[39mlastProgress)  \u001b[38;5;66;03m# 마지막 수행된 쿼리의 상태를 출력합니다\u001b[39;00m\n\u001b[0;32m---> 20\u001b[0m \u001b[43msleep\u001b[49m\u001b[43m(\u001b[49m\u001b[43msleep_secs\u001b[49m\u001b[43m)\u001b[49m            \u001b[38;5;66;03m# 지정된 시간(초)을 대기합니다\u001b[39;00m\n\u001b[1;32m     21\u001b[0m i \u001b[38;5;241m+\u001b[39m\u001b[38;5;241m=\u001b[39m \u001b[38;5;241m1\u001b[39m\n",
      "\u001b[0;31mKeyboardInterrupt\u001b[0m: "
     ]
    }
   ],
   "source": [
    "# 카프카로 다시 저장\n",
    "\n",
    "queryName = \"kafkaSink\"\n",
    "kafkaWriter = (\n",
    "    kafkaSelector.select(\"key\", \"value\")\n",
    "    .writeStream\n",
    "    .queryName(queryName)\n",
    "    .format(\"kafka\")\n",
    "    .option(\"kafka.bootstrap.servers\", \"kafka:9093\")\n",
    "    .option(\"topic\", \"korean_movies\")\n",
    "    .outputMode(\"append\")\n",
    ")\n",
    "\n",
    "checkpointLocation = f\"{work_dir}/tmp/{queryName}\"\n",
    "!rm -rf $checkpointLocation\n",
    "\n",
    "kafkaTrigger = (\n",
    "    kafkaWriter\n",
    "    .trigger(processingTime=\"5 second\")\n",
    "    .option(\"checkpointLocation\", checkpointLocation)\n",
    ")\n",
    "\n",
    "kafkaQuery = kafkaTrigger.start()\n",
    "\n",
    "displayStatus(queryName, kafkaQuery, 100, 10)\n",
    "kafkaQuery.stop()"
   ]
  },
  {
   "cell_type": "code",
   "execution_count": 5,
   "id": "c24bf58e-21bb-48d5-a9ba-97178d581365",
   "metadata": {},
   "outputs": [],
   "source": [
    "kafkaQuery.stop()"
   ]
  },
  {
   "cell_type": "code",
   "execution_count": null,
   "id": "8b5556f2-32ec-4125-85c2-04e6231f56c6",
   "metadata": {},
   "outputs": [],
   "source": []
  }
 ],
 "metadata": {
  "kernelspec": {
   "display_name": "Python 3 (ipykernel)",
   "language": "python",
   "name": "python3"
  },
  "language_info": {
   "codemirror_mode": {
    "name": "ipython",
    "version": 3
   },
   "file_extension": ".py",
   "mimetype": "text/x-python",
   "name": "python",
   "nbconvert_exporter": "python",
   "pygments_lexer": "ipython3",
   "version": "3.9.12"
  }
 },
 "nbformat": 4,
 "nbformat_minor": 5
}
