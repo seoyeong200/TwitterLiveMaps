{
 "cells": [
  {
   "cell_type": "code",
   "execution_count": 1,
   "id": "6fead6df-72f7-406d-9199-84f288edd685",
   "metadata": {},
   "outputs": [
    {
     "data": {
      "text/html": [
       "\n",
       "            <div>\n",
       "                <p><b>SparkSession - in-memory</b></p>\n",
       "                \n",
       "        <div>\n",
       "            <p><b>SparkContext</b></p>\n",
       "\n",
       "            <p><a href=\"http://b6118d167a5e:4040\">Spark UI</a></p>\n",
       "\n",
       "            <dl>\n",
       "              <dt>Version</dt>\n",
       "                <dd><code>v3.2.1</code></dd>\n",
       "              <dt>Master</dt>\n",
       "                <dd><code>local[*]</code></dd>\n",
       "              <dt>AppName</dt>\n",
       "                <dd><code>pyspark-shell</code></dd>\n",
       "            </dl>\n",
       "        </div>\n",
       "        \n",
       "            </div>\n",
       "        "
      ],
      "text/plain": [
       "<pyspark.sql.session.SparkSession at 0x7fc8e3abd340>"
      ]
     },
     "execution_count": 1,
     "metadata": {},
     "output_type": "execute_result"
    }
   ],
   "source": [
    "from pyspark.sql import *\n",
    "from pyspark.sql.functions import *\n",
    "from pyspark.sql.types import *\n",
    "from IPython.display import display, display_pretty, clear_output, JSON\n",
    "\n",
    "spark = (\n",
    "    SparkSession\n",
    "    .builder\n",
    "    .config(\"spark.sql.session.timeZone\", \"Asia/Seoul\")\n",
    "    .getOrCreate()\n",
    ")\n",
    "\n",
    "# 노트북에서 테이블 형태로 데이터 프레임 출력을 위한 설정을 합니다\n",
    "spark.conf.set(\"spark.sql.repl.eagerEval.enabled\", True) # display enabled\n",
    "spark.conf.set(\"spark.sql.repl.eagerEval.truncate\", 100) # display output columns size\n",
    "\n",
    "# 공통 데이터 위치\n",
    "home_jovyan = \"/home/jovyan\"\n",
    "work_data = f\"{home_jovyan}/work/data\"\n",
    "work_dir=!pwd\n",
    "work_dir = work_dir[0]\n",
    "\n",
    "# 로컬 환경 최적화\n",
    "spark.conf.set(\"spark.sql.shuffle.partitions\", 5) # the number of partitions to use when shuffling data for joins or aggregations.\n",
    "spark.conf.set(\"spark.sql.streaming.forceDeleteTempCheckpointLocation\", \"true\")\n",
    "spark"
   ]
  },
  {
   "cell_type": "code",
   "execution_count": 2,
   "id": "467c4558-e0cb-4cb2-bb76-20e54fb74f0c",
   "metadata": {},
   "outputs": [],
   "source": [
    "# 스트림 테이블을 주기적으로 조회하는 함수 (name: 이름, sql: Spark SQL, iterations: 반복횟수, sleep_secs: 인터벌)\n",
    "def displayStream(name, sql, iterations, sleep_secs):\n",
    "    from time import sleep\n",
    "    i = 1\n",
    "    for x in range(iterations):\n",
    "        clear_output(wait=True)              # 출력 Cell 을 지웁니다\n",
    "        display('[' + name + '] Iteration: '+str(i)+', Query: '+sql)\n",
    "        display(spark.sql(sql))              # Spark SQL 을 수행합니다\n",
    "        sleep(sleep_secs)                    # sleep_secs 초 만큼 대기합니다\n",
    "        i += 1\n",
    "\n",
    "# 스트림 쿼리의 상태를 주기적으로 조회하는 함수 (name: 이름, query: Streaming Query, iterations: 반복횟수, sleep_secs: 인터벌)\n",
    "def displayStatus(name, query, iterations, sleep_secs):\n",
    "    from time import sleep\n",
    "    i = 1\n",
    "    for x in range(iterations):\n",
    "        clear_output(wait=True)      # Output Cell 의 내용을 지웁니다\n",
    "        display('[' + name + '] Iteration: '+str(i)+', Status: '+query.status['message'])\n",
    "        display(query.lastProgress)  # 마지막 수행된 쿼리의 상태를 출력합니다\n",
    "        sleep(sleep_secs)            # 지정된 시간(초)을 대기합니다\n",
    "        i += 1"
   ]
  },
  {
   "cell_type": "code",
   "execution_count": 3,
   "id": "ef38c1a6-bce7-4bbf-b56a-41bdf05a86fa",
   "metadata": {},
   "outputs": [
    {
     "data": {
      "text/html": [
       "<table border='1'>\n",
       "<tr><th>country</th><th>genre</th><th>grade</th><th>main_actor</th><th>movie</th><th>rate</th><th>time</th><th>timestamp</th><th>title</th><th>year</th></tr>\n",
       "<tr><td>미국</td><td>드라마</td><td>12세 관람가</td><td>로빈 윌리엄스</td><td>10048</td><td>10</td><td>1132759560</td><td>2005-11-24 00:26:00</td><td>죽은 시인의 사회</td><td>2016</td></tr>\n",
       "<tr><td>프랑스</td><td>드라마</td><td>청소년 관람불가</td><td>스티브 맥퀸</td><td>10046</td><td>10</td><td>1199927340</td><td>2008-01-10 10:09:00</td><td>빠삐용</td><td>2016</td></tr>\n",
       "</table>\n"
      ],
      "text/plain": [
       "+-------+------+---------------+-------------+-----+----+----------+-------------------+----------------+----+\n",
       "|country| genre|          grade|   main_actor|movie|rate|      time|          timestamp|           title|year|\n",
       "+-------+------+---------------+-------------+-----+----+----------+-------------------+----------------+----+\n",
       "|   미국|드라마|    12세 관람가|로빈 윌리엄스|10048|  10|1132759560|2005-11-24 00:26:00|죽은 시인의 사회|2016|\n",
       "| 프랑스|드라마|청소년 관람불가|  스티브 맥퀸|10046|  10|1199927340|2008-01-10 10:09:00|          빠삐용|2016|\n",
       "+-------+------+---------------+-------------+-----+----+----------+-------------------+----------------+----+"
      ]
     },
     "metadata": {},
     "output_type": "display_data"
    },
    {
     "name": "stdout",
     "output_type": "stream",
     "text": [
      "root\n",
      " |-- country: string (nullable = true)\n",
      " |-- genre: string (nullable = true)\n",
      " |-- grade: string (nullable = true)\n",
      " |-- main_actor: string (nullable = true)\n",
      " |-- movie: long (nullable = true)\n",
      " |-- rate: long (nullable = true)\n",
      " |-- time: long (nullable = true)\n",
      " |-- timestamp: string (nullable = true)\n",
      " |-- title: string (nullable = true)\n",
      " |-- year: long (nullable = true)\n",
      "\n"
     ]
    }
   ],
   "source": [
    "json_path = f\"{work_data}/korean_movies\"\n",
    "korean_movies = spark.read.option(\"inferSchema\", \"true\").json(json_path)\n",
    "display(korean_movies.limit(2))\n",
    "korean_movies.printSchema()"
   ]
  },
  {
   "cell_type": "code",
   "execution_count": 4,
   "id": "a47cf5b6-ea7d-4821-86dc-5d41b3ea5803",
   "metadata": {},
   "outputs": [],
   "source": [
    "korean_movies_schema = korean_movies.schema\n",
    "movie_reader = (\n",
    "    spark\n",
    "    .readStream\n",
    "    .schema(korean_movies_schema)\n",
    "    .format(\"json\")\n",
    "    .option(\"maxFilesPerTrigger\", 1)\n",
    "    .load(json_path)\n",
    ")"
   ]
  },
  {
   "cell_type": "markdown",
   "id": "bdde6a50-1ecc-4189-bf18-27b1d393195b",
   "metadata": {},
   "source": [
    "#### 집계한 결과를 카프카로 전송하는 예제"
   ]
  },
  {
   "cell_type": "code",
   "execution_count": 8,
   "id": "07d6ebf8-1e9d-44b6-960c-e68b2c3132a5",
   "metadata": {},
   "outputs": [],
   "source": [
    "movie_counter = movie_reader.groupBy(\"year\").count()"
   ]
  },
  {
   "cell_type": "code",
   "execution_count": 30,
   "id": "3a686dfa-00fd-4d25-acae-929e37521cb4",
   "metadata": {
    "tags": []
   },
   "outputs": [
    {
     "data": {
      "text/plain": [
       "'[movie_counter] Iteration: 1, Query: select * from movie_counter order by key asc limit 10'"
      ]
     },
     "metadata": {},
     "output_type": "display_data"
    },
    {
     "data": {
      "text/html": [
       "<table border='1'>\n",
       "<tr><th>key</th><th>value</th></tr>\n",
       "</table>\n"
      ],
      "text/plain": [
       "+---+-----+\n",
       "|key|value|\n",
       "+---+-----+\n",
       "+---+-----+"
      ]
     },
     "metadata": {},
     "output_type": "display_data"
    },
    {
     "ename": "KeyboardInterrupt",
     "evalue": "",
     "output_type": "error",
     "traceback": [
      "\u001b[0;31m---------------------------------------------------------------------------\u001b[0m",
      "\u001b[0;31mKeyboardInterrupt\u001b[0m                         Traceback (most recent call last)",
      "Input \u001b[0;32mIn [30]\u001b[0m, in \u001b[0;36m<cell line: 24>\u001b[0;34m()\u001b[0m\n\u001b[1;32m     21\u001b[0m movie_query \u001b[38;5;241m=\u001b[39m movie_trigger\u001b[38;5;241m.\u001b[39mstart()\n\u001b[1;32m     23\u001b[0m \u001b[38;5;66;03m# 파이썬의 경우 콘솔 디버깅이 노트북 표준출력으로 나오기 때문에, 별도 메모리 테이블로 조회\u001b[39;00m\n\u001b[0;32m---> 24\u001b[0m \u001b[43mdisplayStream\u001b[49m\u001b[43m(\u001b[49m\u001b[43mtable_name\u001b[49m\u001b[43m,\u001b[49m\u001b[43m \u001b[49m\u001b[38;5;124;43mf\u001b[39;49m\u001b[38;5;124;43m\"\u001b[39;49m\u001b[38;5;124;43mselect * from \u001b[39;49m\u001b[38;5;132;43;01m{\u001b[39;49;00m\u001b[43mtable_name\u001b[49m\u001b[38;5;132;43;01m}\u001b[39;49;00m\u001b[38;5;124;43m order by key asc limit 10\u001b[39;49m\u001b[38;5;124;43m\"\u001b[39;49m\u001b[43m,\u001b[49m\u001b[43m \u001b[49m\u001b[38;5;241;43m30\u001b[39;49m\u001b[43m,\u001b[49m\u001b[43m \u001b[49m\u001b[38;5;241;43m10\u001b[39;49m\u001b[43m)\u001b[49m\n\u001b[1;32m     25\u001b[0m movie_query\u001b[38;5;241m.\u001b[39mstop()\n\u001b[1;32m     26\u001b[0m \u001b[38;5;28mprint\u001b[39m(\u001b[38;5;124m\"\u001b[39m\u001b[38;5;124mstreaming ended\u001b[39m\u001b[38;5;124m\"\u001b[39m)\n",
      "Input \u001b[0;32mIn [5]\u001b[0m, in \u001b[0;36mdisplayStream\u001b[0;34m(name, sql, iterations, sleep_secs)\u001b[0m\n\u001b[1;32m      7\u001b[0m display(\u001b[38;5;124m'\u001b[39m\u001b[38;5;124m[\u001b[39m\u001b[38;5;124m'\u001b[39m \u001b[38;5;241m+\u001b[39m name \u001b[38;5;241m+\u001b[39m \u001b[38;5;124m'\u001b[39m\u001b[38;5;124m] Iteration: \u001b[39m\u001b[38;5;124m'\u001b[39m\u001b[38;5;241m+\u001b[39m\u001b[38;5;28mstr\u001b[39m(i)\u001b[38;5;241m+\u001b[39m\u001b[38;5;124m'\u001b[39m\u001b[38;5;124m, Query: \u001b[39m\u001b[38;5;124m'\u001b[39m\u001b[38;5;241m+\u001b[39msql)\n\u001b[1;32m      8\u001b[0m display(spark\u001b[38;5;241m.\u001b[39msql(sql))              \u001b[38;5;66;03m# Spark SQL 을 수행합니다\u001b[39;00m\n\u001b[0;32m----> 9\u001b[0m \u001b[43msleep\u001b[49m\u001b[43m(\u001b[49m\u001b[43msleep_secs\u001b[49m\u001b[43m)\u001b[49m                    \u001b[38;5;66;03m# sleep_secs 초 만큼 대기합니다\u001b[39;00m\n\u001b[1;32m     10\u001b[0m i \u001b[38;5;241m+\u001b[39m\u001b[38;5;241m=\u001b[39m \u001b[38;5;241m1\u001b[39m\n",
      "\u001b[0;31mKeyboardInterrupt\u001b[0m: "
     ]
    }
   ],
   "source": [
    "# 노트북 로그 콘솔로 출력\n",
    "\n",
    "table_name = \"movie_counter\"\n",
    "movie_writer = (\n",
    "    movie_counter.selectExpr(\"cast(year as string) as key\", \"to_json(struct(*)) as value\")\n",
    "    .writeStream\n",
    "    .queryName(table_name)\n",
    "    .format(\"memory\")\n",
    "    .outputMode(\"complete\")\n",
    ")\n",
    "\n",
    "checkpointLocation = f\"{work_dir}/tmp/{table_name}\"\n",
    "!rm -rf $checkpointLocation\n",
    "\n",
    "movie_trigger = (\n",
    "    movie_writer\n",
    "    .trigger(processingTime=\"10 second\")\n",
    "    .option(\"checkpointLocation\", checkpointLocation)\n",
    ")\n",
    "\n",
    "movie_query = movie_trigger.start()\n",
    "\n",
    "# 파이썬의 경우 콘솔 디버깅이 노트북 표준출력으로 나오기 때문에, 별도 메모리 테이블로 조회\n",
    "displayStream(table_name, f\"select * from {table_name} order by key asc limit 10\", 30, 10)\n",
    "movie_query.stop()\n",
    "print(\"streaming ended\")"
   ]
  },
  {
   "cell_type": "code",
   "execution_count": 31,
   "id": "e5c0bc29-4a6b-4657-a9a7-05c82530c97d",
   "metadata": {},
   "outputs": [],
   "source": [
    "movie_query.stop()"
   ]
  },
  {
   "cell_type": "markdown",
   "id": "6dbf3931-2e25-4267-b113-3b18a5bbd5fd",
   "metadata": {},
   "source": [
    "#### 원본 데이터를 카프카로 다시 저장"
   ]
  },
  {
   "cell_type": "code",
   "execution_count": 10,
   "id": "9620dd41-fee2-4bda-a038-35370d74c4ca",
   "metadata": {
    "tags": []
   },
   "outputs": [
    {
     "data": {
      "text/plain": [
       "'[korean_movies] Iteration: 44, Status: Waiting for next trigger'"
      ]
     },
     "metadata": {},
     "output_type": "display_data"
    },
    {
     "data": {
      "text/plain": [
       "{'id': '03939fef-b752-4521-b3e5-89d75c37ef77',\n",
       " 'runId': '7e59a015-0dd4-4c34-a81f-4f9c69125014',\n",
       " 'name': 'korean_movies',\n",
       " 'timestamp': '2022-07-17T06:39:50.000Z',\n",
       " 'batchId': 30,\n",
       " 'numInputRows': 0,\n",
       " 'inputRowsPerSecond': 0.0,\n",
       " 'processedRowsPerSecond': 0.0,\n",
       " 'durationMs': {'latestOffset': 101, 'triggerExecution': 101},\n",
       " 'stateOperators': [],\n",
       " 'sources': [{'description': 'FileStreamSource[file:/home/jovyan/work/data/korean_movies]',\n",
       "   'startOffset': {'logOffset': 29},\n",
       "   'endOffset': {'logOffset': 29},\n",
       "   'latestOffset': None,\n",
       "   'numInputRows': 0,\n",
       "   'inputRowsPerSecond': 0.0,\n",
       "   'processedRowsPerSecond': 0.0}],\n",
       " 'sink': {'description': 'org.apache.spark.sql.kafka010.KafkaSourceProvider$KafkaTable@3568069c',\n",
       "  'numOutputRows': 0}}"
      ]
     },
     "metadata": {},
     "output_type": "display_data"
    },
    {
     "ename": "KeyboardInterrupt",
     "evalue": "",
     "output_type": "error",
     "traceback": [
      "\u001b[0;31m---------------------------------------------------------------------------\u001b[0m",
      "\u001b[0;31mKeyboardInterrupt\u001b[0m                         Traceback (most recent call last)",
      "Input \u001b[0;32mIn [10]\u001b[0m, in \u001b[0;36m<cell line: 26>\u001b[0;34m()\u001b[0m\n\u001b[1;32m     18\u001b[0m movie_trigger \u001b[38;5;241m=\u001b[39m (\n\u001b[1;32m     19\u001b[0m     movie_writer\n\u001b[1;32m     20\u001b[0m     \u001b[38;5;241m.\u001b[39mtrigger(processingTime\u001b[38;5;241m=\u001b[39m\u001b[38;5;124m\"\u001b[39m\u001b[38;5;124m10 second\u001b[39m\u001b[38;5;124m\"\u001b[39m)\n\u001b[1;32m     21\u001b[0m     \u001b[38;5;241m.\u001b[39moption(\u001b[38;5;124m\"\u001b[39m\u001b[38;5;124mcheckpointLocation\u001b[39m\u001b[38;5;124m\"\u001b[39m, checkpointLocation)\n\u001b[1;32m     22\u001b[0m )\n\u001b[1;32m     24\u001b[0m movie_query \u001b[38;5;241m=\u001b[39m movie_trigger\u001b[38;5;241m.\u001b[39mstart()\n\u001b[0;32m---> 26\u001b[0m \u001b[43mdisplayStatus\u001b[49m\u001b[43m(\u001b[49m\u001b[43mtable_name\u001b[49m\u001b[43m,\u001b[49m\u001b[43m \u001b[49m\u001b[43mmovie_query\u001b[49m\u001b[43m,\u001b[49m\u001b[43m \u001b[49m\u001b[38;5;241;43m360\u001b[39;49m\u001b[43m,\u001b[49m\u001b[43m \u001b[49m\u001b[38;5;241;43m10\u001b[39;49m\u001b[43m)\u001b[49m\n\u001b[1;32m     27\u001b[0m movie_query\u001b[38;5;241m.\u001b[39mstop()\n\u001b[1;32m     28\u001b[0m \u001b[38;5;28mprint\u001b[39m(\u001b[38;5;124m\"\u001b[39m\u001b[38;5;124mstreaming ended\u001b[39m\u001b[38;5;124m\"\u001b[39m)\n",
      "Input \u001b[0;32mIn [2]\u001b[0m, in \u001b[0;36mdisplayStatus\u001b[0;34m(name, query, iterations, sleep_secs)\u001b[0m\n\u001b[1;32m     18\u001b[0m display(\u001b[38;5;124m'\u001b[39m\u001b[38;5;124m[\u001b[39m\u001b[38;5;124m'\u001b[39m \u001b[38;5;241m+\u001b[39m name \u001b[38;5;241m+\u001b[39m \u001b[38;5;124m'\u001b[39m\u001b[38;5;124m] Iteration: \u001b[39m\u001b[38;5;124m'\u001b[39m\u001b[38;5;241m+\u001b[39m\u001b[38;5;28mstr\u001b[39m(i)\u001b[38;5;241m+\u001b[39m\u001b[38;5;124m'\u001b[39m\u001b[38;5;124m, Status: \u001b[39m\u001b[38;5;124m'\u001b[39m\u001b[38;5;241m+\u001b[39mquery\u001b[38;5;241m.\u001b[39mstatus[\u001b[38;5;124m'\u001b[39m\u001b[38;5;124mmessage\u001b[39m\u001b[38;5;124m'\u001b[39m])\n\u001b[1;32m     19\u001b[0m display(query\u001b[38;5;241m.\u001b[39mlastProgress)  \u001b[38;5;66;03m# 마지막 수행된 쿼리의 상태를 출력합니다\u001b[39;00m\n\u001b[0;32m---> 20\u001b[0m \u001b[43msleep\u001b[49m\u001b[43m(\u001b[49m\u001b[43msleep_secs\u001b[49m\u001b[43m)\u001b[49m            \u001b[38;5;66;03m# 지정된 시간(초)을 대기합니다\u001b[39;00m\n\u001b[1;32m     21\u001b[0m i \u001b[38;5;241m+\u001b[39m\u001b[38;5;241m=\u001b[39m \u001b[38;5;241m1\u001b[39m\n",
      "\u001b[0;31mKeyboardInterrupt\u001b[0m: "
     ]
    }
   ],
   "source": [
    "# 집계의 경우 append 모드로 동작하기 위해서는 time 필드가 포함된 워터마크가 필수입니다\n",
    "# current_timestamp() as timestamp, \n",
    "    \n",
    "table_name = \"korean_movies\"\n",
    "movie_writer = (\n",
    "    movie_reader.selectExpr(\"cast(year as string) as key\", \"to_json(struct(*)) as value\")\n",
    "    .writeStream\n",
    "    .queryName(table_name)\n",
    "    .format(\"kafka\")\n",
    "    .option(\"kafka.bootstrap.servers\", \"kafka:9093\")\n",
    "    .option(\"topic\", table_name)\n",
    "    .outputMode(\"update\")\n",
    ")\n",
    "\n",
    "checkpointLocation = f\"{work_dir}/tmp/{table_name}\"\n",
    "!rm -rf $checkpointLocation\n",
    "\n",
    "movie_trigger = (\n",
    "    movie_writer\n",
    "    .trigger(processingTime=\"10 second\")\n",
    "    .option(\"checkpointLocation\", checkpointLocation)\n",
    ")\n",
    "\n",
    "movie_query = movie_trigger.start()\n",
    "\n",
    "displayStatus(table_name, movie_query, 360, 10)\n",
    "movie_query.stop()\n",
    "print(\"streaming ended\")"
   ]
  },
  {
   "cell_type": "code",
   "execution_count": 11,
   "id": "59c69cd0-0cb0-448b-8049-25497a86d4be",
   "metadata": {},
   "outputs": [],
   "source": [
    "movie_query.stop()"
   ]
  },
  {
   "cell_type": "markdown",
   "id": "cefeb733-9a96-4ed5-8811-ef5e16381b02",
   "metadata": {
    "jupyter": {
     "source_hidden": true
    },
    "tags": []
   },
   "source": [
    "#### 집계가 아니라 원본 데이터를 그대로 전송\n",
    "```\n",
    "root\n",
    " |-- country: string (nullable = true)\n",
    " |-- genre: string (nullable = true)\n",
    " |-- grade: string (nullable = true)\n",
    " |-- main_actor: string (nullable = true)\n",
    " |-- movie: long (nullable = true)\n",
    " |-- rate: long (nullable = true)\n",
    " |-- time: long (nullable = true)\n",
    " |-- timestamp: string (nullable = true)\n",
    " |-- title: string (nullable = true)\n",
    " |-- year: long (nullable = true)\n",
    " ```"
   ]
  },
  {
   "cell_type": "code",
   "execution_count": 5,
   "id": "bf62100a-cffb-4639-a8a3-11a6284e0aa7",
   "metadata": {},
   "outputs": [
    {
     "name": "stdout",
     "output_type": "stream",
     "text": [
      "root\n",
      " |-- country: string (nullable = true)\n",
      " |-- genre: string (nullable = true)\n",
      " |-- grade: string (nullable = true)\n",
      " |-- main_actor: string (nullable = true)\n",
      " |-- movie: long (nullable = true)\n",
      " |-- rate: long (nullable = true)\n",
      " |-- time: long (nullable = true)\n",
      " |-- timestamp: string (nullable = true)\n",
      " |-- title: string (nullable = true)\n",
      " |-- year: long (nullable = true)\n",
      "\n"
     ]
    }
   ],
   "source": [
    "movie_counter = movie_reader.select(\"*\")\n",
    "movie_counter.printSchema()"
   ]
  },
  {
   "cell_type": "code",
   "execution_count": 10,
   "id": "83bd3e17-1a3f-4728-9308-6343fbbf3a1d",
   "metadata": {},
   "outputs": [
    {
     "data": {
      "text/plain": [
       "'[movie_selector] Iteration: 18, Query: select * from movie_selector limit 10'"
      ]
     },
     "metadata": {},
     "output_type": "display_data"
    },
    {
     "data": {
      "text/html": [
       "<table border='1'>\n",
       "<tr><th>key</th><th>value</th></tr>\n",
       "<tr><td>2010</td><td>{&quot;country&quot;:&quot;미국&quot;,&quot;genre&quot;:&quot;드라마&quot;,&quot;grade&quot;:&quot;청소년 관람불가&quot;,&quot;main_actor&quot;:&quot;말론 브란도&quot;,&quot;movie&quot;:10071,&quot;rate&quot;:10,&quot;t...</td></tr>\n",
       "<tr><td>1981</td><td>{&quot;country&quot;:&quot;영국&quot;,&quot;genre&quot;:&quot;SF&quot;,&quot;grade&quot;:&quot;15세 관람가&quot;,&quot;main_actor&quot;:&quot;로저 무어&quot;,&quot;movie&quot;:10166,&quot;rate&quot;:10,&quot;time...</td></tr>\n",
       "<tr><td>1991</td><td>{&quot;country&quot;:&quot;미국&quot;,&quot;genre&quot;:&quot;판타지&quot;,&quot;grade&quot;:&quot;12세 관람가&quot;,&quot;main_actor&quot;:&quot;크리스티 스완슨&quot;,&quot;movie&quot;:10270,&quot;rate&quot;:10,&quot;...</td></tr>\n",
       "<tr><td>1979</td><td>{&quot;country&quot;:&quot;영국&quot;,&quot;genre&quot;:&quot;SF&quot;,&quot;grade&quot;:&quot;PG&quot;,&quot;main_actor&quot;:&quot;말론 브란도&quot;,&quot;movie&quot;:10008,&quot;rate&quot;:10,&quot;time&quot;:10...</td></tr>\n",
       "<tr><td>2017</td><td>{&quot;country&quot;:&quot;미국&quot;,&quot;genre&quot;:&quot;멜로/로맨스&quot;,&quot;grade&quot;:&quot;전체 관람가&quot;,&quot;main_actor&quot;:&quot;줄리 앤드류스&quot;,&quot;movie&quot;:10102,&quot;rate&quot;:10,...</td></tr>\n",
       "<tr><td>2019</td><td>{&quot;country&quot;:&quot;프랑스&quot;,&quot;genre&quot;:&quot;SF&quot;,&quot;grade&quot;:&quot;15세 관람가&quot;,&quot;main_actor&quot;:&quot;아놀드 슈왈제네거&quot;,&quot;movie&quot;:10200,&quot;rate&quot;:10,...</td></tr>\n",
       "<tr><td>1988</td><td>{&quot;country&quot;:&quot;미국&quot;,&quot;genre&quot;:&quot;멜로/로맨스&quot;,&quot;grade&quot;:&quot;청소년 관람불가&quot;,&quot;main_actor&quot;:&quot;브룩 쉴즈&quot;,&quot;movie&quot;:10751,&quot;rate&quot;:9,&quot;...</td></tr>\n",
       "<tr><td>2019</td><td>{&quot;country&quot;:&quot;프랑스&quot;,&quot;genre&quot;:&quot;SF&quot;,&quot;grade&quot;:&quot;15세 관람가&quot;,&quot;main_actor&quot;:&quot;아놀드 슈왈제네거&quot;,&quot;movie&quot;:10200,&quot;rate&quot;:10,...</td></tr>\n",
       "<tr><td>1986</td><td>{&quot;country&quot;:&quot;미국&quot;,&quot;genre&quot;:&quot;SF&quot;,&quot;grade&quot;:&quot;15세 관람가&quot;,&quot;main_actor&quot;:&quot;시고니 위버&quot;,&quot;movie&quot;:10038,&quot;rate&quot;:10,&quot;tim...</td></tr>\n",
       "<tr><td>2010</td><td>{&quot;country&quot;:&quot;미국&quot;,&quot;genre&quot;:&quot;드라마&quot;,&quot;grade&quot;:&quot;청소년 관람불가&quot;,&quot;main_actor&quot;:&quot;알 파치노&quot;,&quot;movie&quot;:10072,&quot;rate&quot;:10,&quot;ti...</td></tr>\n",
       "</table>\n"
      ],
      "text/plain": [
       "+----+----------------------------------------------------------------------------------------------------------------------+\n",
       "| key|                                                                                                                 value|\n",
       "+----+----------------------------------------------------------------------------------------------------------------------+\n",
       "|2010| {\"country\":\"미국\",\"genre\":\"드라마\",\"grade\":\"청소년 관람불가\",\"main_actor\":\"말론 브란도\",\"movie\":10071,\"rate\":10,\"t...|\n",
       "|1981|        {\"country\":\"영국\",\"genre\":\"SF\",\"grade\":\"15세 관람가\",\"main_actor\":\"로저 무어\",\"movie\":10166,\"rate\":10,\"time...|\n",
       "|1991|  {\"country\":\"미국\",\"genre\":\"판타지\",\"grade\":\"12세 관람가\",\"main_actor\":\"크리스티 스완슨\",\"movie\":10270,\"rate\":10,\"...|\n",
       "|1979|           {\"country\":\"영국\",\"genre\":\"SF\",\"grade\":\"PG\",\"main_actor\":\"말론 브란도\",\"movie\":10008,\"rate\":10,\"time\":10...|\n",
       "|2017|{\"country\":\"미국\",\"genre\":\"멜로/로맨스\",\"grade\":\"전체 관람가\",\"main_actor\":\"줄리 앤드류스\",\"movie\":10102,\"rate\":10,...|\n",
       "|2019|   {\"country\":\"프랑스\",\"genre\":\"SF\",\"grade\":\"15세 관람가\",\"main_actor\":\"아놀드 슈왈제네거\",\"movie\":10200,\"rate\":10,...|\n",
       "|1988|{\"country\":\"미국\",\"genre\":\"멜로/로맨스\",\"grade\":\"청소년 관람불가\",\"main_actor\":\"브룩 쉴즈\",\"movie\":10751,\"rate\":9,\"...|\n",
       "|2019|   {\"country\":\"프랑스\",\"genre\":\"SF\",\"grade\":\"15세 관람가\",\"main_actor\":\"아놀드 슈왈제네거\",\"movie\":10200,\"rate\":10,...|\n",
       "|1986|       {\"country\":\"미국\",\"genre\":\"SF\",\"grade\":\"15세 관람가\",\"main_actor\":\"시고니 위버\",\"movie\":10038,\"rate\":10,\"tim...|\n",
       "|2010|  {\"country\":\"미국\",\"genre\":\"드라마\",\"grade\":\"청소년 관람불가\",\"main_actor\":\"알 파치노\",\"movie\":10072,\"rate\":10,\"ti...|\n",
       "+----+----------------------------------------------------------------------------------------------------------------------+"
      ]
     },
     "metadata": {},
     "output_type": "display_data"
    },
    {
     "ename": "KeyboardInterrupt",
     "evalue": "",
     "output_type": "error",
     "traceback": [
      "\u001b[0;31m---------------------------------------------------------------------------\u001b[0m",
      "\u001b[0;31mKeyboardInterrupt\u001b[0m                         Traceback (most recent call last)",
      "Input \u001b[0;32mIn [10]\u001b[0m, in \u001b[0;36m<cell line: 24>\u001b[0;34m()\u001b[0m\n\u001b[1;32m     21\u001b[0m movie_query \u001b[38;5;241m=\u001b[39m movie_trigger\u001b[38;5;241m.\u001b[39mstart()\n\u001b[1;32m     23\u001b[0m \u001b[38;5;66;03m# 파이썬의 경우 콘솔 디버깅이 노트북 표준출력으로 나오기 때문에, 별도 메모리 테이블로 조회\u001b[39;00m\n\u001b[0;32m---> 24\u001b[0m \u001b[43mdisplayStream\u001b[49m\u001b[43m(\u001b[49m\u001b[43mtable_name\u001b[49m\u001b[43m,\u001b[49m\u001b[43m \u001b[49m\u001b[38;5;124;43mf\u001b[39;49m\u001b[38;5;124;43m\"\u001b[39;49m\u001b[38;5;124;43mselect * from \u001b[39;49m\u001b[38;5;132;43;01m{\u001b[39;49;00m\u001b[43mtable_name\u001b[49m\u001b[38;5;132;43;01m}\u001b[39;49;00m\u001b[38;5;124;43m limit 10\u001b[39;49m\u001b[38;5;124;43m\"\u001b[39;49m\u001b[43m,\u001b[49m\u001b[43m \u001b[49m\u001b[38;5;241;43m30\u001b[39;49m\u001b[43m,\u001b[49m\u001b[43m \u001b[49m\u001b[38;5;241;43m10\u001b[39;49m\u001b[43m)\u001b[49m\n\u001b[1;32m     25\u001b[0m movie_query\u001b[38;5;241m.\u001b[39mstop()\n\u001b[1;32m     26\u001b[0m \u001b[38;5;28mprint\u001b[39m(\u001b[38;5;124m\"\u001b[39m\u001b[38;5;124mstreaming ended\u001b[39m\u001b[38;5;124m\"\u001b[39m)\n",
      "Input \u001b[0;32mIn [2]\u001b[0m, in \u001b[0;36mdisplayStream\u001b[0;34m(name, sql, iterations, sleep_secs)\u001b[0m\n\u001b[1;32m      7\u001b[0m display(\u001b[38;5;124m'\u001b[39m\u001b[38;5;124m[\u001b[39m\u001b[38;5;124m'\u001b[39m \u001b[38;5;241m+\u001b[39m name \u001b[38;5;241m+\u001b[39m \u001b[38;5;124m'\u001b[39m\u001b[38;5;124m] Iteration: \u001b[39m\u001b[38;5;124m'\u001b[39m\u001b[38;5;241m+\u001b[39m\u001b[38;5;28mstr\u001b[39m(i)\u001b[38;5;241m+\u001b[39m\u001b[38;5;124m'\u001b[39m\u001b[38;5;124m, Query: \u001b[39m\u001b[38;5;124m'\u001b[39m\u001b[38;5;241m+\u001b[39msql)\n\u001b[1;32m      8\u001b[0m display(spark\u001b[38;5;241m.\u001b[39msql(sql))              \u001b[38;5;66;03m# Spark SQL 을 수행합니다\u001b[39;00m\n\u001b[0;32m----> 9\u001b[0m \u001b[43msleep\u001b[49m\u001b[43m(\u001b[49m\u001b[43msleep_secs\u001b[49m\u001b[43m)\u001b[49m                    \u001b[38;5;66;03m# sleep_secs 초 만큼 대기합니다\u001b[39;00m\n\u001b[1;32m     10\u001b[0m i \u001b[38;5;241m+\u001b[39m\u001b[38;5;241m=\u001b[39m \u001b[38;5;241m1\u001b[39m\n",
      "\u001b[0;31mKeyboardInterrupt\u001b[0m: "
     ]
    }
   ],
   "source": [
    "# 노트북 로그 콘솔로 출력 - 테이블 이름을 변경해 주어야 과거에 존재하는 테이블과 충돌나지 않습니다\n",
    "\n",
    "table_name = \"movie_selector\"\n",
    "movie_writer = (\n",
    "    movie_counter.selectExpr(\"cast(year as string) as key\", \"to_json(struct(*)) as value\")\n",
    "    .writeStream\n",
    "    .queryName(table_name)\n",
    "    .format(\"memory\")\n",
    "    .outputMode(\"append\")\n",
    ")\n",
    "\n",
    "checkpointLocation = f\"{work_dir}/tmp/{table_name}\"\n",
    "!rm -rf $checkpointLocation\n",
    "\n",
    "movie_trigger = (\n",
    "    movie_writer\n",
    "    .trigger(processingTime=\"10 second\")\n",
    "    .option(\"checkpointLocation\", checkpointLocation)\n",
    ")\n",
    "\n",
    "movie_query = movie_trigger.start()\n",
    "\n",
    "# 파이썬의 경우 콘솔 디버깅이 노트북 표준출력으로 나오기 때문에, 별도 메모리 테이블로 조회\n",
    "displayStream(table_name, f\"select * from {table_name} limit 10\", 30, 10)\n",
    "movie_query.stop()\n",
    "print(\"streaming ended\")"
   ]
  },
  {
   "cell_type": "code",
   "execution_count": 11,
   "id": "d0c9cd5c-8357-473e-be74-d4e21fc948b7",
   "metadata": {},
   "outputs": [],
   "source": [
    "movie_query.stop()"
   ]
  },
  {
   "cell_type": "code",
   "execution_count": 12,
   "id": "736ca99a-884f-464a-a985-95ce6b6de4e1",
   "metadata": {},
   "outputs": [
    {
     "data": {
      "text/plain": [
       "'[korean_movies] Iteration: 30, Status: Waiting for next trigger'"
      ]
     },
     "metadata": {},
     "output_type": "display_data"
    },
    {
     "data": {
      "text/plain": [
       "{'id': '1c8febae-b541-4412-84d6-59a25c2c3313',\n",
       " 'runId': 'a4272295-103b-4ab2-bd6d-ad94028b748a',\n",
       " 'name': 'korean_movies',\n",
       " 'timestamp': '2022-07-16T14:08:10.000Z',\n",
       " 'batchId': 29,\n",
       " 'numInputRows': 4690,\n",
       " 'inputRowsPerSecond': 469.04690469046903,\n",
       " 'processedRowsPerSecond': 8933.333333333332,\n",
       " 'durationMs': {'addBatch': 215,\n",
       "  'getBatch': 6,\n",
       "  'latestOffset': 105,\n",
       "  'queryPlanning': 9,\n",
       "  'triggerExecution': 525,\n",
       "  'walCommit': 67},\n",
       " 'stateOperators': [],\n",
       " 'sources': [{'description': 'FileStreamSource[file:/home/jovyan/work/data/korean_movies]',\n",
       "   'startOffset': {'logOffset': 28},\n",
       "   'endOffset': {'logOffset': 29},\n",
       "   'latestOffset': None,\n",
       "   'numInputRows': 4690,\n",
       "   'inputRowsPerSecond': 469.04690469046903,\n",
       "   'processedRowsPerSecond': 8933.333333333332}],\n",
       " 'sink': {'description': 'org.apache.spark.sql.kafka010.KafkaSourceProvider$KafkaTable@1ddef851',\n",
       "  'numOutputRows': 4690}}"
      ]
     },
     "metadata": {},
     "output_type": "display_data"
    },
    {
     "name": "stdout",
     "output_type": "stream",
     "text": [
      "streaming ended\n"
     ]
    }
   ],
   "source": [
    "# 카프카로 다시 저장 - 집계의 경우 append 모드로 동작하기 위해서는 time 필드가 포함된 워터마크가 필수입니다\n",
    "    \n",
    "table_name = \"korean_movies\"\n",
    "movie_writer = (\n",
    "    movie_counter.selectExpr(\"cast(year as string) as key\", \"to_json(struct(*)) as value\")\n",
    "    .writeStream\n",
    "    .queryName(table_name)\n",
    "    .format(\"kafka\")\n",
    "    .option(\"kafka.bootstrap.servers\", \"kafka:9093\")\n",
    "    .option(\"topic\", table_name)\n",
    "    .outputMode(\"append\")\n",
    ")\n",
    "\n",
    "checkpointLocation = f\"{work_dir}/tmp/{table_name}\"\n",
    "!rm -rf $checkpointLocation\n",
    "\n",
    "movie_trigger = (\n",
    "    movie_writer\n",
    "    .trigger(processingTime=\"10 second\")\n",
    "    .option(\"checkpointLocation\", checkpointLocation)\n",
    ")\n",
    "\n",
    "movie_query = movie_trigger.start()\n",
    "\n",
    "displayStatus(table_name, movie_query, 30, 10)\n",
    "movie_query.stop()\n",
    "print(\"streaming ended\")"
   ]
  },
  {
   "cell_type": "code",
   "execution_count": null,
   "id": "ccc46210-2eea-4cf1-ba57-e0cef556bf75",
   "metadata": {},
   "outputs": [],
   "source": []
  }
 ],
 "metadata": {
  "kernelspec": {
   "display_name": "Python 3 (ipykernel)",
   "language": "python",
   "name": "python3"
  },
  "language_info": {
   "codemirror_mode": {
    "name": "ipython",
    "version": 3
   },
   "file_extension": ".py",
   "mimetype": "text/x-python",
   "name": "python",
   "nbconvert_exporter": "python",
   "pygments_lexer": "ipython3",
   "version": "3.9.12"
  }
 },
 "nbformat": 4,
 "nbformat_minor": 5
}
