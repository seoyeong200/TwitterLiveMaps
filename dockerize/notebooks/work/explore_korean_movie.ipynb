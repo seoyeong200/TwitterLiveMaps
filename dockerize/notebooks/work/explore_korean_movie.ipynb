{
 "cells": [
  {
   "cell_type": "code",
   "execution_count": 4,
   "id": "a17a19de-b50b-42a5-8496-a8708f8424a6",
   "metadata": {},
   "outputs": [
    {
     "data": {
      "text/html": [
       "\n",
       "            <div>\n",
       "                <p><b>SparkSession - in-memory</b></p>\n",
       "                \n",
       "        <div>\n",
       "            <p><b>SparkContext</b></p>\n",
       "\n",
       "            <p><a href=\"http://54440487fd03:4040\">Spark UI</a></p>\n",
       "\n",
       "            <dl>\n",
       "              <dt>Version</dt>\n",
       "                <dd><code>v3.2.1</code></dd>\n",
       "              <dt>Master</dt>\n",
       "                <dd><code>local[*]</code></dd>\n",
       "              <dt>AppName</dt>\n",
       "                <dd><code>pyspark-shell</code></dd>\n",
       "            </dl>\n",
       "        </div>\n",
       "        \n",
       "            </div>\n",
       "        "
      ],
      "text/plain": [
       "<pyspark.sql.session.SparkSession at 0x7fa6e052d340>"
      ]
     },
     "execution_count": 1,
     "metadata": {},
     "output_type": "execute_result"
    }
   ],
   "source": [
    "from pyspark.sql import *\n",
    "from pyspark.sql.functions import *\n",
    "from pyspark.sql.types import *\n",
    "from IPython.display import display, display_pretty, clear_output, JSON\n",
    "\n",
    "spark = (\n",
    "    SparkSession\n",
    "    .builder\n",
    "    .config(\"spark.sql.session.timeZone\", \"Asia/Seoul\")\n",
    "    .getOrCreate()\n",
    ")\n",
    "\n",
    "노트북에서 테이블 형태로 데이터 프레임 출력을 위한 설정을 합니다\n",
    "spark.conf.set(\"spark.sql.repl.eagerEval.enabled\", True) # display enabled\n",
    "spark.conf.set(\"spark.sql.repl.eagerEval.truncate\", 100) # display output columns size\n",
    "\n",
    "# 공통 데이터 위치\n",
    "home_jovyan = \"/home/jovyan\"\n",
    "work_data = f\"{home_jovyan}/work/data\"\n",
    "work_dir=!pwd\n",
    "work_dir = work_dir[0]\n",
    "\n",
    "# 로컬 환경 최적화\n",
    "spark.conf.set(\"spark.sql.shuffle.partitions\", 5) # the number of partitions to use when shuffling data for joins or aggregations.\n",
    "spark.conf.set(\"spark.sql.streaming.forceDeleteTempCheckpointLocation\", \"true\")\n",
    "spark"
   ]
  },
  {
   "cell_type": "code",
   "execution_count": 5,
   "id": "27e0001f-72fd-4c33-bb10-6e7012e222ab",
   "metadata": {},
   "outputs": [],
   "source": [
    "connString = \"jdbc:mysql://mysql:3306/default?useUnicode=true&serverTimezone=Asia/Seoul\"\n",
    "tableName = \"korean_movies\"\n",
    "accessInfo = {\"user\":\"scott\", \"password\":\"tiger\"}\n",
    "korean_movies = spark.read.jdbc(connString, tableName, properties=accessInfo)"
   ]
  },
  {
   "cell_type": "code",
   "execution_count": 8,
   "id": "979a991e-51ca-47fb-abc0-9778d1e89c7e",
   "metadata": {},
   "outputs": [
    {
     "data": {
      "text/html": [
       "<table border='1'>\n",
       "<tr><th>timestamp</th><th>rate</th><th>movie</th><th>year</th><th>grade</th><th>title</th><th>main_actor</th><th>country</th><th>genre</th><th>time</th></tr>\n",
       "<tr><td>2017-05-07 12:34:00</td><td>7</td><td>10003</td><td>2015</td><td>12세 관람가</td><td>빽 투 더 퓨쳐 2</td><td>마이클 J. 폭스</td><td>미국</td><td>SF</td><td>1494128040</td></tr>\n",
       "<tr><td>2016-07-03 16:10:00</td><td>7</td><td>10004</td><td>1990</td><td>전체 관람가</td><td>빽 투 더 퓨쳐 3</td><td>마이클 J. 폭스</td><td>미국</td><td>서부</td><td>1467529800</td></tr>\n",
       "<tr><td>2017-12-15 22:22:00</td><td>9</td><td>10018</td><td>2011</td><td>전체 관람가</td><td>이티</td><td>헨리 토마스</td><td>미국</td><td>판타지</td><td>1513344120</td></tr>\n",
       "<tr><td>2015-02-21 14:53:00</td><td>9</td><td>10021</td><td>2017</td><td>12세 관람가</td><td>록키</td><td>실베스터 스탤론</td><td>미국</td><td>드라마</td><td>1424497980</td></tr>\n",
       "<tr><td>2015-03-29 20:09:00</td><td>7</td><td>10022</td><td>1980</td><td>12세 관람가</td><td>록키 2</td><td>실베스터 스탤론</td><td>미국</td><td>드라마</td><td>1427627340</td></tr>\n",
       "<tr><td>2015-04-11 16:48:00</td><td>7</td><td>10023</td><td>1982</td><td>12세 관람가</td><td>록키 3</td><td>실베스터 스탤론</td><td>미국</td><td>드라마</td><td>1428738480</td></tr>\n",
       "<tr><td>2015-04-18 21:17:00</td><td>4</td><td>10024</td><td>1987</td><td>12세 관람가</td><td>록키 4</td><td>실베스터 스탤론</td><td>미국</td><td>드라마</td><td>1429359420</td></tr>\n",
       "<tr><td>2015-06-06 20:43:00</td><td>4</td><td>10025</td><td>1990</td><td>15세 관람가</td><td>록키 5</td><td>실베스터 스탤론</td><td>미국</td><td>드라마</td><td>1433590980</td></tr>\n",
       "<tr><td>2015-02-28 16:28:00</td><td>10</td><td>10028</td><td>1984</td><td>청소년 관람불가</td><td>터미네이터</td><td>아놀드 슈왈제네거</td><td>미국</td><td>SF</td><td>1425108480</td></tr>\n",
       "<tr><td>2017-12-18 22:12:00</td><td>9</td><td>10029</td><td>1978</td><td>12세 관람가</td><td>죠스</td><td>로이 샤이더</td><td>미국</td><td>스릴러</td><td>1513602720</td></tr>\n",
       "<tr><td>2017-05-24 20:39:00</td><td>9</td><td>10038</td><td>1986</td><td>15세 관람가</td><td>에이리언 2</td><td>시고니 위버</td><td>미국</td><td>SF</td><td>1495625940</td></tr>\n",
       "<tr><td>2015-04-02 22:08:00</td><td>8</td><td>10039</td><td>2017</td><td>15세 관람가</td><td>플래툰</td><td>찰리 쉰</td><td>미국</td><td>드라마</td><td>1427980080</td></tr>\n",
       "<tr><td>2016-01-24 11:37:00</td><td>8</td><td>10047</td><td>1978</td><td>15세 관람가</td><td>스팅</td><td>폴 뉴먼</td><td>미국</td><td>드라마</td><td>1453603020</td></tr>\n",
       "<tr><td>2014-03-06 23:06:00</td><td>7</td><td>10048</td><td>2016</td><td>12세 관람가</td><td>죽은 시인의 사회</td><td>로빈 윌리엄스</td><td>미국</td><td>드라마</td><td>1394114760</td></tr>\n",
       "<tr><td>2015-12-02 11:29:00</td><td>8</td><td>10055</td><td>1983</td><td>15세 관람가</td><td>람보</td><td>실베스터 스탤론</td><td>미국</td><td>드라마</td><td>1449023340</td></tr>\n",
       "<tr><td>2015-12-29 11:03:00</td><td>6</td><td>10056</td><td>1985</td><td>15세 관람가</td><td>람보 2</td><td>실베스터 스탤론</td><td>미국</td><td>액션</td><td>1451354580</td></tr>\n",
       "<tr><td>2014-12-14 18:20:00</td><td>8</td><td>10064</td><td>1982</td><td>전체 관람가</td><td>십계</td><td>찰톤 헤스톤</td><td>미국</td><td>드라마</td><td>1418548800</td></tr>\n",
       "<tr><td>2015-04-11 14:33:00</td><td>9</td><td>10068</td><td>1989</td><td>청소년 관람불가</td><td>언터처블</td><td>케빈 코스트너</td><td>미국</td><td>드라마</td><td>1428730380</td></tr>\n",
       "<tr><td>2015-05-05 18:09:00</td><td>7</td><td>10069</td><td>1966</td><td>15세 관람가</td><td>황야의 무법자</td><td>클린트 이스트우드</td><td>스페인</td><td>서부</td><td>1430816940</td></tr>\n",
       "<tr><td>2014-12-20 15:43:00</td><td>9</td><td>10071</td><td>2010</td><td>청소년 관람불가</td><td>대부</td><td>말론 브란도</td><td>미국</td><td>드라마</td><td>1419057780</td></tr>\n",
       "</table>\n",
       "only showing top 20 rows\n"
      ],
      "text/plain": [
       "+-------------------+----+-----+----+---------------+----------------+-----------------+-------+------+----------+\n",
       "|          timestamp|rate|movie|year|          grade|           title|       main_actor|country| genre|      time|\n",
       "+-------------------+----+-----+----+---------------+----------------+-----------------+-------+------+----------+\n",
       "|2017-05-07 12:34:00|   7|10003|2015|    12세 관람가| 빽 투 더 퓨쳐 2|   마이클 J. 폭스|   미국|    SF|1494128040|\n",
       "|2016-07-03 16:10:00|   7|10004|1990|    전체 관람가| 빽 투 더 퓨쳐 3|   마이클 J. 폭스|   미국|  서부|1467529800|\n",
       "|2017-12-15 22:22:00|   9|10018|2011|    전체 관람가|            이티|      헨리 토마스|   미국|판타지|1513344120|\n",
       "|2015-02-21 14:53:00|   9|10021|2017|    12세 관람가|            록키|  실베스터 스탤론|   미국|드라마|1424497980|\n",
       "|2015-03-29 20:09:00|   7|10022|1980|    12세 관람가|          록키 2|  실베스터 스탤론|   미국|드라마|1427627340|\n",
       "|2015-04-11 16:48:00|   7|10023|1982|    12세 관람가|          록키 3|  실베스터 스탤론|   미국|드라마|1428738480|\n",
       "|2015-04-18 21:17:00|   4|10024|1987|    12세 관람가|          록키 4|  실베스터 스탤론|   미국|드라마|1429359420|\n",
       "|2015-06-06 20:43:00|   4|10025|1990|    15세 관람가|          록키 5|  실베스터 스탤론|   미국|드라마|1433590980|\n",
       "|2015-02-28 16:28:00|  10|10028|1984|청소년 관람불가|      터미네이터|아놀드 슈왈제네거|   미국|    SF|1425108480|\n",
       "|2017-12-18 22:12:00|   9|10029|1978|    12세 관람가|            죠스|      로이 샤이더|   미국|스릴러|1513602720|\n",
       "|2017-05-24 20:39:00|   9|10038|1986|    15세 관람가|      에이리언 2|      시고니 위버|   미국|    SF|1495625940|\n",
       "|2015-04-02 22:08:00|   8|10039|2017|    15세 관람가|          플래툰|          찰리 쉰|   미국|드라마|1427980080|\n",
       "|2016-01-24 11:37:00|   8|10047|1978|    15세 관람가|            스팅|          폴 뉴먼|   미국|드라마|1453603020|\n",
       "|2014-03-06 23:06:00|   7|10048|2016|    12세 관람가|죽은 시인의 사회|    로빈 윌리엄스|   미국|드라마|1394114760|\n",
       "|2015-12-02 11:29:00|   8|10055|1983|    15세 관람가|            람보|  실베스터 스탤론|   미국|드라마|1449023340|\n",
       "|2015-12-29 11:03:00|   6|10056|1985|    15세 관람가|          람보 2|  실베스터 스탤론|   미국|  액션|1451354580|\n",
       "|2014-12-14 18:20:00|   8|10064|1982|    전체 관람가|            십계|      찰톤 헤스톤|   미국|드라마|1418548800|\n",
       "|2015-04-11 14:33:00|   9|10068|1989|청소년 관람불가|        언터처블|    케빈 코스트너|   미국|드라마|1428730380|\n",
       "|2015-05-05 18:09:00|   7|10069|1966|    15세 관람가|   황야의 무법자|클린트 이스트우드| 스페인|  서부|1430816940|\n",
       "|2014-12-20 15:43:00|   9|10071|2010|청소년 관람불가|            대부|      말론 브란도|   미국|드라마|1419057780|\n",
       "+-------------------+----+-----+----+---------------+----------------+-----------------+-------+------+----------+\n",
       "only showing top 20 rows"
      ]
     },
     "metadata": {},
     "output_type": "display_data"
    }
   ],
   "source": [
    "display(korean_movies)"
   ]
  },
  {
   "cell_type": "code",
   "execution_count": 15,
   "id": "396a2968-37fc-4e84-97f7-66090b63e641",
   "metadata": {},
   "outputs": [],
   "source": [
    "korean_movies.repartition(30).write.mode(\"overwrite\").json(\"data/korean_movies\")"
   ]
  },
  {
   "cell_type": "code",
   "execution_count": 16,
   "id": "c9153a19-1005-48f4-b050-32fc770618b6",
   "metadata": {},
   "outputs": [],
   "source": [
    "json = spark.read.json(\"data/korean_movies\")"
   ]
  },
  {
   "cell_type": "code",
   "execution_count": 17,
   "id": "59a01c07-c5a6-41ef-9afd-cf0c2defa7fd",
   "metadata": {},
   "outputs": [
    {
     "name": "stdout",
     "output_type": "stream",
     "text": [
      "root\n",
      " |-- country: string (nullable = true)\n",
      " |-- genre: string (nullable = true)\n",
      " |-- grade: string (nullable = true)\n",
      " |-- main_actor: string (nullable = true)\n",
      " |-- movie: long (nullable = true)\n",
      " |-- rate: long (nullable = true)\n",
      " |-- time: long (nullable = true)\n",
      " |-- timestamp: string (nullable = true)\n",
      " |-- title: string (nullable = true)\n",
      " |-- year: long (nullable = true)\n",
      "\n"
     ]
    }
   ],
   "source": [
    "json.printSchema()"
   ]
  },
  {
   "cell_type": "code",
   "execution_count": 18,
   "id": "66f1c74d-4358-4ba3-8e0d-b39561e23edb",
   "metadata": {},
   "outputs": [
    {
     "data": {
      "text/html": [
       "<table border='1'>\n",
       "<tr><th>country</th><th>genre</th><th>grade</th><th>main_actor</th><th>movie</th><th>rate</th><th>time</th><th>timestamp</th><th>title</th><th>year</th></tr>\n",
       "<tr><td>미국</td><td>드라마</td><td>12세 관람가</td><td>로빈 윌리엄스</td><td>10048</td><td>10</td><td>1132759560</td><td>2005-11-24 00:26:00</td><td>죽은 시인의 사회</td><td>2016</td></tr>\n",
       "<tr><td>프랑스</td><td>드라마</td><td>청소년 관람불가</td><td>스티브 맥퀸</td><td>10046</td><td>10</td><td>1199927340</td><td>2008-01-10 10:09:00</td><td>빠삐용</td><td>2016</td></tr>\n",
       "<tr><td>미국</td><td>SF</td><td>청소년 관람불가</td><td>아놀드 슈왈제네거</td><td>10028</td><td>7</td><td>1310220900</td><td>2011-07-09 23:15:00</td><td>터미네이터</td><td>1984</td></tr>\n",
       "<tr><td>미국</td><td>SF</td><td>15세 관람가</td><td>톰 스커릿</td><td>10037</td><td>7</td><td>1290358920</td><td>2010-11-22 02:02:00</td><td>에이리언</td><td>1987</td></tr>\n",
       "<tr><td>미국</td><td>판타지</td><td>15세 관람가</td><td>조니 뎁</td><td>10936</td><td>10</td><td>1150827540</td><td>2006-06-21 03:19:00</td><td>가위손</td><td>2014</td></tr>\n",
       "<tr><td>미국</td><td>드라마</td><td>15세 관람가</td><td>진 핵크만</td><td>10041</td><td>10</td><td>1507042320</td><td>2017-10-03 23:52:00</td><td>포세이돈 어드벤쳐</td><td>1978</td></tr>\n",
       "<tr><td>미국</td><td>드라마</td><td>12세 관람가</td><td>케빈 코스트너</td><td>10244</td><td>10</td><td>1318954980</td><td>2011-10-19 01:23:00</td><td>늑대와 춤을</td><td>1991</td></tr>\n",
       "<tr><td>null</td><td>null</td><td>null</td><td>null</td><td>10707</td><td>10</td><td>1248243180</td><td>2009-07-22 15:13:00</td><td>null</td><td>null</td></tr>\n",
       "<tr><td>프랑스</td><td>드라마</td><td>청소년 관람불가</td><td>스티브 맥퀸</td><td>10046</td><td>10</td><td>1568370900</td><td>2019-09-13 19:35:00</td><td>빠삐용</td><td>2016</td></tr>\n",
       "<tr><td>한국</td><td>멜로/로맨스</td><td>12세 관람가</td><td>안성기</td><td>10764</td><td>10</td><td>1312641780</td><td>2011-08-06 23:43:00</td><td>기쁜 우리 젊은 날</td><td>1987</td></tr>\n",
       "<tr><td>프랑스</td><td>SF</td><td>15세 관람가</td><td>아놀드 슈왈제네거</td><td>10200</td><td>10</td><td>1155615420</td><td>2006-08-15 13:17:00</td><td>터미네이터 2:오리지널</td><td>2019</td></tr>\n",
       "<tr><td>미국</td><td>멜로/로맨스</td><td>전체 관람가</td><td>찰톤 헤스톤</td><td>10058</td><td>10</td><td>1547150280</td><td>2019-01-11 04:58:00</td><td>벤허</td><td>2019</td></tr>\n",
       "<tr><td>프랑스</td><td>SF</td><td>15세 관람가</td><td>아놀드 슈왈제네거</td><td>10200</td><td>10</td><td>1442846520</td><td>2015-09-21 23:42:00</td><td>터미네이터 2:오리지널</td><td>2019</td></tr>\n",
       "<tr><td>프랑스</td><td>드라마</td><td>12세 관람가</td><td>존 론</td><td>10314</td><td>10</td><td>1547433540</td><td>2019-01-14 11:39:00</td><td>마지막 황제</td><td>2015</td></tr>\n",
       "<tr><td>미국</td><td>드라마</td><td>청소년 관람불가</td><td>제임스 칸</td><td>10489</td><td>10</td><td>1124943180</td><td>2005-08-25 13:13:00</td><td>미져리</td><td>1991</td></tr>\n",
       "<tr><td>영국</td><td>드라마</td><td>12세 관람가</td><td>벤 크로스</td><td>10293</td><td>8</td><td>1466303040</td><td>2016-06-19 11:24:00</td><td>불의 전차</td><td>2016</td></tr>\n",
       "<tr><td>미국</td><td>드라마</td><td>청소년 관람불가</td><td>알 파치노</td><td>10072</td><td>10</td><td>1140283980</td><td>2006-02-19 02:33:00</td><td>대부 2</td><td>2010</td></tr>\n",
       "<tr><td>프랑스</td><td>멜로/로맨스</td><td>청소년 관람불가</td><td>제인 마치</td><td>10741</td><td>1</td><td>1384906320</td><td>2013-11-20 09:12:00</td><td>연인</td><td>2016</td></tr>\n",
       "<tr><td>미국</td><td>멜로/로맨스</td><td>15세 관람가</td><td>패트릭 스웨이지</td><td>10242</td><td>10</td><td>1191458760</td><td>2007-10-04 09:46:00</td><td>더티 댄싱</td><td>2007</td></tr>\n",
       "<tr><td>미국</td><td>느와르</td><td>청소년 관람불가</td><td>로버트 드 니로</td><td>10970</td><td>10</td><td>1427558160</td><td>2015-03-29 00:56:00</td><td>원스 어폰 어 타임 인 아메리카</td><td>2015</td></tr>\n",
       "</table>\n",
       "only showing top 20 rows\n"
      ],
      "text/plain": [
       "+-------+-----------+---------------+-----------------+-----+----+----------+-------------------+-----------------------------+----+\n",
       "|country|      genre|          grade|       main_actor|movie|rate|      time|          timestamp|                        title|year|\n",
       "+-------+-----------+---------------+-----------------+-----+----+----------+-------------------+-----------------------------+----+\n",
       "|   미국|     드라마|    12세 관람가|    로빈 윌리엄스|10048|  10|1132759560|2005-11-24 00:26:00|             죽은 시인의 사회|2016|\n",
       "| 프랑스|     드라마|청소년 관람불가|      스티브 맥퀸|10046|  10|1199927340|2008-01-10 10:09:00|                       빠삐용|2016|\n",
       "|   미국|         SF|청소년 관람불가|아놀드 슈왈제네거|10028|   7|1310220900|2011-07-09 23:15:00|                   터미네이터|1984|\n",
       "|   미국|         SF|    15세 관람가|        톰 스커릿|10037|   7|1290358920|2010-11-22 02:02:00|                     에이리언|1987|\n",
       "|   미국|     판타지|    15세 관람가|          조니 뎁|10936|  10|1150827540|2006-06-21 03:19:00|                       가위손|2014|\n",
       "|   미국|     드라마|    15세 관람가|        진 핵크만|10041|  10|1507042320|2017-10-03 23:52:00|            포세이돈 어드벤쳐|1978|\n",
       "|   미국|     드라마|    12세 관람가|    케빈 코스트너|10244|  10|1318954980|2011-10-19 01:23:00|                  늑대와 춤을|1991|\n",
       "|   null|       null|           null|             null|10707|  10|1248243180|2009-07-22 15:13:00|                         null|null|\n",
       "| 프랑스|     드라마|청소년 관람불가|      스티브 맥퀸|10046|  10|1568370900|2019-09-13 19:35:00|                       빠삐용|2016|\n",
       "|   한국|멜로/로맨스|    12세 관람가|           안성기|10764|  10|1312641780|2011-08-06 23:43:00|            기쁜 우리 젊은 날|1987|\n",
       "| 프랑스|         SF|    15세 관람가|아놀드 슈왈제네거|10200|  10|1155615420|2006-08-15 13:17:00|        터미네이터 2:오리지널|2019|\n",
       "|   미국|멜로/로맨스|    전체 관람가|      찰톤 헤스톤|10058|  10|1547150280|2019-01-11 04:58:00|                         벤허|2019|\n",
       "| 프랑스|         SF|    15세 관람가|아놀드 슈왈제네거|10200|  10|1442846520|2015-09-21 23:42:00|        터미네이터 2:오리지널|2019|\n",
       "| 프랑스|     드라마|    12세 관람가|            존 론|10314|  10|1547433540|2019-01-14 11:39:00|                  마지막 황제|2015|\n",
       "|   미국|     드라마|청소년 관람불가|        제임스 칸|10489|  10|1124943180|2005-08-25 13:13:00|                       미져리|1991|\n",
       "|   영국|     드라마|    12세 관람가|        벤 크로스|10293|   8|1466303040|2016-06-19 11:24:00|                    불의 전차|2016|\n",
       "|   미국|     드라마|청소년 관람불가|        알 파치노|10072|  10|1140283980|2006-02-19 02:33:00|                       대부 2|2010|\n",
       "| 프랑스|멜로/로맨스|청소년 관람불가|        제인 마치|10741|   1|1384906320|2013-11-20 09:12:00|                         연인|2016|\n",
       "|   미국|멜로/로맨스|    15세 관람가|  패트릭 스웨이지|10242|  10|1191458760|2007-10-04 09:46:00|                    더티 댄싱|2007|\n",
       "|   미국|     느와르|청소년 관람불가|   로버트 드 니로|10970|  10|1427558160|2015-03-29 00:56:00|원스 어폰 어 타임 인 아메리카|2015|\n",
       "+-------+-----------+---------------+-----------------+-----+----+----------+-------------------+-----------------------------+----+\n",
       "only showing top 20 rows"
      ]
     },
     "metadata": {},
     "output_type": "display_data"
    }
   ],
   "source": [
    "display(json)"
   ]
  },
  {
   "cell_type": "code",
   "execution_count": null,
   "id": "b1339d59-e110-4094-9657-a192faffb402",
   "metadata": {},
   "outputs": [],
   "source": []
  }
 ],
 "metadata": {
  "kernelspec": {
   "display_name": "Python 3 (ipykernel)",
   "language": "python",
   "name": "python3"
  },
  "language_info": {
   "codemirror_mode": {
    "name": "ipython",
    "version": 3
   },
   "file_extension": ".py",
   "mimetype": "text/x-python",
   "name": "python",
   "nbconvert_exporter": "python",
   "pygments_lexer": "ipython3",
   "version": "3.9.12"
  }
 },
 "nbformat": 4,
 "nbformat_minor": 5
}
