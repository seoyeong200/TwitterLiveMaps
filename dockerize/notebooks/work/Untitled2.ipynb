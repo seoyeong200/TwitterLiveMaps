{
 "cells": [
  {
   "cell_type": "code",
   "execution_count": 4,
   "id": "85967df5-d167-47e9-86fa-0070320727c5",
   "metadata": {},
   "outputs": [],
   "source": [
    "from pyspark.sql import *\n",
    "from pyspark.sql.functions import *\n",
    "from pyspark.sql.types import *\n",
    "from IPython.display import display, display_pretty, clear_output, JSON\n",
    "\n",
    "spark = (\n",
    "    SparkSession\n",
    "    .builder\n",
    "    .config(\"spark.sql.session.timeZone\", \"Asia/Seoul\")\n",
    "    .getOrCreate()\n",
    ")\n",
    "\n",
    "# 노트북에서 테이블 형태로 데이터 프레임 출력을 위한 설정을 합니다\n",
    "spark.conf.set(\"spark.sql.repl.eagerEval.enabled\", True) # display enabled\n",
    "spark.conf.set(\"spark.sql.repl.eagerEval.truncate\", 100) # display output columns size\n",
    "\n",
    "# 공통 데이터 위치\n",
    "home_jovyan = \"/home/jovyan\"\n",
    "work_data = f\"{home_jovyan}/work/data\"\n",
    "work_dir=!pwd\n",
    "work_dir = work_dir[0]\n",
    "\n",
    "# 로컬 환경 최적화\n",
    "spark.conf.set(\"spark.sql.shuffle.partitions\", 5) # the number of partitions to use when shuffling data for joins or aggregations.\n",
    "spark.conf.set(\"spark.sql.streaming.forceDeleteTempCheckpointLocation\", \"true\")\n"
   ]
  },
  {
   "cell_type": "code",
   "execution_count": 7,
   "id": "9fbd66bd-9185-410e-a0f2-2ce734c1a8af",
   "metadata": {},
   "outputs": [
    {
     "data": {
      "text/html": [
       "<table border='1'>\n",
       "<tr><th>datasets</th><th>filename</th></tr>\n",
       "<tr><td>[{cust5001, 2021-12-24 00.00.00.000, [{prd9001, 2, 1, {550, 500, 50}}, {prd9002, 3, 2, {300, 240,...</td><td>orderDetails</td></tr>\n",
       "</table>\n"
      ],
      "text/plain": [
       "+----------------------------------------------------------------------------------------------------+------------+\n",
       "|                                                                                            datasets|    filename|\n",
       "+----------------------------------------------------------------------------------------------------+------------+\n",
       "|[{cust5001, 2021-12-24 00.00.00.000, [{prd9001, 2, 1, {550, 500, 50}}, {prd9002, 3, 2, {300, 240,...|orderDetails|\n",
       "+----------------------------------------------------------------------------------------------------+------------+"
      ]
     },
     "metadata": {},
     "output_type": "display_data"
    }
   ],
   "source": [
    "ordersDf = spark.read.format(\"json\")\\\n",
    "                        .option(\"inferSchema\", \"true\")\\\n",
    "                         .option(\"multiLine\", \"true\")\\\n",
    "                         .load(f\"{work_dir}/test.json\")\n",
    "display(ordersDf)"
   ]
  },
  {
   "cell_type": "code",
   "execution_count": 11,
   "id": "e24e78da-9845-4ad4-b802-facdf767d7be",
   "metadata": {},
   "outputs": [
    {
     "data": {
      "text/html": [
       "<table border='1'>\n",
       "<tr><th>datasets</th><th>filename</th><th>orders</th></tr>\n",
       "<tr><td>[{cust5001, 2021-12-24 00.00.00.000, [{prd9001, 2, 1, {550, 500, 50}}, {prd9002, 3, 2, {300, 240,...</td><td>orderDetails</td><td>{cust5001, 2021-12-24 00.00.00.000, [{prd9001, 2, 1, {550, 500, 50}}, {prd9002, 3, 2, {300, 240, ...</td></tr>\n",
       "<tr><td>[{cust5001, 2021-12-24 00.00.00.000, [{prd9001, 2, 1, {550, 500, 50}}, {prd9002, 3, 2, {300, 240,...</td><td>orderDetails</td><td>{cust5002, 2021-12-25 00.00.00.000, [{prd9001, 1, 1, {275, 250, 25}}, {prd9004, 4, 2, {1000, 900,...</td></tr>\n",
       "</table>\n"
      ],
      "text/plain": [
       "+----------------------------------------------------------------------------------------------------+------------+----------------------------------------------------------------------------------------------------+\n",
       "|                                                                                            datasets|    filename|                                                                                              orders|\n",
       "+----------------------------------------------------------------------------------------------------+------------+----------------------------------------------------------------------------------------------------+\n",
       "|[{cust5001, 2021-12-24 00.00.00.000, [{prd9001, 2, 1, {550, 500, 50}}, {prd9002, 3, 2, {300, 240,...|orderDetails|{cust5001, 2021-12-24 00.00.00.000, [{prd9001, 2, 1, {550, 500, 50}}, {prd9002, 3, 2, {300, 240, ...|\n",
       "|[{cust5001, 2021-12-24 00.00.00.000, [{prd9001, 2, 1, {550, 500, 50}}, {prd9002, 3, 2, {300, 240,...|orderDetails|{cust5002, 2021-12-25 00.00.00.000, [{prd9001, 1, 1, {275, 250, 25}}, {prd9004, 4, 2, {1000, 900,...|\n",
       "+----------------------------------------------------------------------------------------------------+------------+----------------------------------------------------------------------------------------------------+"
      ]
     },
     "metadata": {},
     "output_type": "display_data"
    }
   ],
   "source": [
    "from pyspark.sql.functions import explode\n",
    "parseOrdersDf = ordersDf.withColumn(\"orders\", explode(ordersDf.datasets))\n",
    "display(parseOrdersDf)"
   ]
  },
  {
   "cell_type": "code",
   "execution_count": 15,
   "id": "da9a9e51-2ff6-4310-991d-926da6d61424",
   "metadata": {},
   "outputs": [
    {
     "data": {
      "text/html": [
       "<table border='1'>\n",
       "<tr><th>datasets</th><th>filename</th><th>orders</th><th>customerId</th><th>orderId</th><th>orderDate</th><th>orderDetails</th><th>shipmentDetails</th></tr>\n",
       "<tr><td>[{cust5001, 2021-12-24 00.00.00.000, [{prd9001, 2, 1, {550, 500, 50}}, {prd9002, 3, 2, {300, 240,...</td><td>orderDetails</td><td>{cust5001, 2021-12-24 00.00.00.000, [{prd9001, 2, 1, {550, 500, 50}}, {prd9002, 3, 2, {300, 240, ...</td><td>cust5001</td><td>ord1001</td><td>2021-12-24 00.00.00.000</td><td>[{prd9001, 2, 1, {550, 500, 50}}, {prd9002, 3, 2, {300, 240, 60}}]</td><td>{Delhi, India, 110040, New Delhi, M.G.Road}</td></tr>\n",
       "<tr><td>[{cust5001, 2021-12-24 00.00.00.000, [{prd9001, 2, 1, {550, 500, 50}}, {prd9002, 3, 2, {300, 240,...</td><td>orderDetails</td><td>{cust5002, 2021-12-25 00.00.00.000, [{prd9001, 1, 1, {275, 250, 25}}, {prd9004, 4, 2, {1000, 900,...</td><td>cust5002</td><td>ord1002</td><td>2021-12-25 00.00.00.000</td><td>[{prd9001, 1, 1, {275, 250, 25}}, {prd9004, 4, 2, {1000, 900, 100}}]</td><td>{Mumbai, India, 400064, Maharastra, Malad}</td></tr>\n",
       "</table>\n"
      ],
      "text/plain": [
       "+----------------------------------------------------------------------------------------------------+------------+----------------------------------------------------------------------------------------------------+----------+-------+-----------------------+--------------------------------------------------------------------+-------------------------------------------+\n",
       "|                                                                                            datasets|    filename|                                                                                              orders|customerId|orderId|              orderDate|                                                        orderDetails|                            shipmentDetails|\n",
       "+----------------------------------------------------------------------------------------------------+------------+----------------------------------------------------------------------------------------------------+----------+-------+-----------------------+--------------------------------------------------------------------+-------------------------------------------+\n",
       "|[{cust5001, 2021-12-24 00.00.00.000, [{prd9001, 2, 1, {550, 500, 50}}, {prd9002, 3, 2, {300, 240,...|orderDetails|{cust5001, 2021-12-24 00.00.00.000, [{prd9001, 2, 1, {550, 500, 50}}, {prd9002, 3, 2, {300, 240, ...|  cust5001|ord1001|2021-12-24 00.00.00.000|  [{prd9001, 2, 1, {550, 500, 50}}, {prd9002, 3, 2, {300, 240, 60}}]|{Delhi, India, 110040, New Delhi, M.G.Road}|\n",
       "|[{cust5001, 2021-12-24 00.00.00.000, [{prd9001, 2, 1, {550, 500, 50}}, {prd9002, 3, 2, {300, 240,...|orderDetails|{cust5002, 2021-12-25 00.00.00.000, [{prd9001, 1, 1, {275, 250, 25}}, {prd9004, 4, 2, {1000, 900,...|  cust5002|ord1002|2021-12-25 00.00.00.000|[{prd9001, 1, 1, {275, 250, 25}}, {prd9004, 4, 2, {1000, 900, 100}}]| {Mumbai, India, 400064, Maharastra, Malad}|\n",
       "+----------------------------------------------------------------------------------------------------+------------+----------------------------------------------------------------------------------------------------+----------+-------+-----------------------+--------------------------------------------------------------------+-------------------------------------------+"
      ]
     },
     "metadata": {},
     "output_type": "display_data"
    }
   ],
   "source": [
    "# Step 3: Fetch Each Order using getItem on explode column\n",
    "parseOrdersDf = parseOrdersDf.withColumn(\"customerId\", parseOrdersDf.orders.getItem(\"customerId\"))\\\n",
    "                             .withColumn(\"orderId\", parseOrdersDf.orders.getItem(\"orderId\"))\\\n",
    "                             .withColumn(\"orderDate\", parseOrdersDf.orders.getItem(\"orderDate\"))\\\n",
    "                             .withColumn(\"orderDetails\", parseOrdersDf.orders.getItem(\"orderDetails\"))\\\n",
    "                             .withColumn(\"shipmentDetails\", parseOrdersDf.orders.getItem(\"shipmentDetails\"))\n",
    "display(parseOrdersDf)"
   ]
  },
  {
   "cell_type": "code",
   "execution_count": 16,
   "id": "dec044ac-9db8-4831-b620-ecac94346a5c",
   "metadata": {},
   "outputs": [
    {
     "data": {
      "text/html": [
       "<table border='1'>\n",
       "<tr><th>datasets</th><th>filename</th><th>orders</th><th>customerId</th><th>orderId</th><th>orderDate</th><th>orderDetails</th><th>shipmentDetails</th></tr>\n",
       "<tr><td>[{cust5001, 2021-12-24 00.00.00.000, [{prd9001, 2, 1, {550, 500, 50}}, {prd9002, 3, 2, {300, 240,...</td><td>orderDetails</td><td>{cust5001, 2021-12-24 00.00.00.000, [{prd9001, 2, 1, {550, 500, 50}}, {prd9002, 3, 2, {300, 240, ...</td><td>cust5001</td><td>ord1001</td><td>2021-12-24 00.00.00.000</td><td>{prd9001, 2, 1, {550, 500, 50}}</td><td>{Delhi, India, 110040, New Delhi, M.G.Road}</td></tr>\n",
       "<tr><td>[{cust5001, 2021-12-24 00.00.00.000, [{prd9001, 2, 1, {550, 500, 50}}, {prd9002, 3, 2, {300, 240,...</td><td>orderDetails</td><td>{cust5001, 2021-12-24 00.00.00.000, [{prd9001, 2, 1, {550, 500, 50}}, {prd9002, 3, 2, {300, 240, ...</td><td>cust5001</td><td>ord1001</td><td>2021-12-24 00.00.00.000</td><td>{prd9002, 3, 2, {300, 240, 60}}</td><td>{Delhi, India, 110040, New Delhi, M.G.Road}</td></tr>\n",
       "<tr><td>[{cust5001, 2021-12-24 00.00.00.000, [{prd9001, 2, 1, {550, 500, 50}}, {prd9002, 3, 2, {300, 240,...</td><td>orderDetails</td><td>{cust5002, 2021-12-25 00.00.00.000, [{prd9001, 1, 1, {275, 250, 25}}, {prd9004, 4, 2, {1000, 900,...</td><td>cust5002</td><td>ord1002</td><td>2021-12-25 00.00.00.000</td><td>{prd9001, 1, 1, {275, 250, 25}}</td><td>{Mumbai, India, 400064, Maharastra, Malad}</td></tr>\n",
       "<tr><td>[{cust5001, 2021-12-24 00.00.00.000, [{prd9001, 2, 1, {550, 500, 50}}, {prd9002, 3, 2, {300, 240,...</td><td>orderDetails</td><td>{cust5002, 2021-12-25 00.00.00.000, [{prd9001, 1, 1, {275, 250, 25}}, {prd9004, 4, 2, {1000, 900,...</td><td>cust5002</td><td>ord1002</td><td>2021-12-25 00.00.00.000</td><td>{prd9004, 4, 2, {1000, 900, 100}}</td><td>{Mumbai, India, 400064, Maharastra, Malad}</td></tr>\n",
       "</table>\n"
      ],
      "text/plain": [
       "+----------------------------------------------------------------------------------------------------+------------+----------------------------------------------------------------------------------------------------+----------+-------+-----------------------+---------------------------------+-------------------------------------------+\n",
       "|                                                                                            datasets|    filename|                                                                                              orders|customerId|orderId|              orderDate|                     orderDetails|                            shipmentDetails|\n",
       "+----------------------------------------------------------------------------------------------------+------------+----------------------------------------------------------------------------------------------------+----------+-------+-----------------------+---------------------------------+-------------------------------------------+\n",
       "|[{cust5001, 2021-12-24 00.00.00.000, [{prd9001, 2, 1, {550, 500, 50}}, {prd9002, 3, 2, {300, 240,...|orderDetails|{cust5001, 2021-12-24 00.00.00.000, [{prd9001, 2, 1, {550, 500, 50}}, {prd9002, 3, 2, {300, 240, ...|  cust5001|ord1001|2021-12-24 00.00.00.000|  {prd9001, 2, 1, {550, 500, 50}}|{Delhi, India, 110040, New Delhi, M.G.Road}|\n",
       "|[{cust5001, 2021-12-24 00.00.00.000, [{prd9001, 2, 1, {550, 500, 50}}, {prd9002, 3, 2, {300, 240,...|orderDetails|{cust5001, 2021-12-24 00.00.00.000, [{prd9001, 2, 1, {550, 500, 50}}, {prd9002, 3, 2, {300, 240, ...|  cust5001|ord1001|2021-12-24 00.00.00.000|  {prd9002, 3, 2, {300, 240, 60}}|{Delhi, India, 110040, New Delhi, M.G.Road}|\n",
       "|[{cust5001, 2021-12-24 00.00.00.000, [{prd9001, 2, 1, {550, 500, 50}}, {prd9002, 3, 2, {300, 240,...|orderDetails|{cust5002, 2021-12-25 00.00.00.000, [{prd9001, 1, 1, {275, 250, 25}}, {prd9004, 4, 2, {1000, 900,...|  cust5002|ord1002|2021-12-25 00.00.00.000|  {prd9001, 1, 1, {275, 250, 25}}| {Mumbai, India, 400064, Maharastra, Malad}|\n",
       "|[{cust5001, 2021-12-24 00.00.00.000, [{prd9001, 2, 1, {550, 500, 50}}, {prd9002, 3, 2, {300, 240,...|orderDetails|{cust5002, 2021-12-25 00.00.00.000, [{prd9001, 1, 1, {275, 250, 25}}, {prd9004, 4, 2, {1000, 900,...|  cust5002|ord1002|2021-12-25 00.00.00.000|{prd9004, 4, 2, {1000, 900, 100}}| {Mumbai, India, 400064, Maharastra, Malad}|\n",
       "+----------------------------------------------------------------------------------------------------+------------+----------------------------------------------------------------------------------------------------+----------+-------+-----------------------+---------------------------------+-------------------------------------------+"
      ]
     },
     "metadata": {},
     "output_type": "display_data"
    }
   ],
   "source": [
    "parseOrdersDf = parseOrdersDf.withColumn(\"orderDetails\", explode(parseOrdersDf.orderDetails))\n",
    "display(parseOrdersDf)"
   ]
  },
  {
   "cell_type": "code",
   "execution_count": 17,
   "id": "5fcadc63-53c1-4711-8ffa-86dab00d4be9",
   "metadata": {},
   "outputs": [
    {
     "data": {
      "text/html": [
       "<table border='1'>\n",
       "<tr><th>datasets</th><th>filename</th><th>orders</th><th>customerId</th><th>orderId</th><th>orderDate</th><th>orderDetails</th><th>shipmentDetails</th><th>productId</th><th>quantity</th><th>sequence</th><th>totalPrice</th><th>city</th><th>country</th><th>postalcode</th><th>street</th><th>state</th></tr>\n",
       "<tr><td>[{cust5001, 2021-12-24 00.00.00.000, [{prd9001, 2, 1, {550, 500, 50}}, {prd9002, 3, 2, {300, 240,...</td><td>orderDetails</td><td>{cust5001, 2021-12-24 00.00.00.000, [{prd9001, 2, 1, {550, 500, 50}}, {prd9002, 3, 2, {300, 240, ...</td><td>cust5001</td><td>ord1001</td><td>2021-12-24 00.00.00.000</td><td>{prd9001, 2, 1, {550, 500, 50}}</td><td>{Delhi, India, 110040, New Delhi, M.G.Road}</td><td>prd9001</td><td>2</td><td>1</td><td>{550, 500, 50}</td><td>Delhi</td><td>India</td><td>110040</td><td>M.G.Road</td><td>New Delhi</td></tr>\n",
       "<tr><td>[{cust5001, 2021-12-24 00.00.00.000, [{prd9001, 2, 1, {550, 500, 50}}, {prd9002, 3, 2, {300, 240,...</td><td>orderDetails</td><td>{cust5001, 2021-12-24 00.00.00.000, [{prd9001, 2, 1, {550, 500, 50}}, {prd9002, 3, 2, {300, 240, ...</td><td>cust5001</td><td>ord1001</td><td>2021-12-24 00.00.00.000</td><td>{prd9002, 3, 2, {300, 240, 60}}</td><td>{Delhi, India, 110040, New Delhi, M.G.Road}</td><td>prd9002</td><td>3</td><td>2</td><td>{300, 240, 60}</td><td>Delhi</td><td>India</td><td>110040</td><td>M.G.Road</td><td>New Delhi</td></tr>\n",
       "<tr><td>[{cust5001, 2021-12-24 00.00.00.000, [{prd9001, 2, 1, {550, 500, 50}}, {prd9002, 3, 2, {300, 240,...</td><td>orderDetails</td><td>{cust5002, 2021-12-25 00.00.00.000, [{prd9001, 1, 1, {275, 250, 25}}, {prd9004, 4, 2, {1000, 900,...</td><td>cust5002</td><td>ord1002</td><td>2021-12-25 00.00.00.000</td><td>{prd9001, 1, 1, {275, 250, 25}}</td><td>{Mumbai, India, 400064, Maharastra, Malad}</td><td>prd9001</td><td>1</td><td>1</td><td>{275, 250, 25}</td><td>Mumbai</td><td>India</td><td>400064</td><td>Malad</td><td>Maharastra</td></tr>\n",
       "<tr><td>[{cust5001, 2021-12-24 00.00.00.000, [{prd9001, 2, 1, {550, 500, 50}}, {prd9002, 3, 2, {300, 240,...</td><td>orderDetails</td><td>{cust5002, 2021-12-25 00.00.00.000, [{prd9001, 1, 1, {275, 250, 25}}, {prd9004, 4, 2, {1000, 900,...</td><td>cust5002</td><td>ord1002</td><td>2021-12-25 00.00.00.000</td><td>{prd9004, 4, 2, {1000, 900, 100}}</td><td>{Mumbai, India, 400064, Maharastra, Malad}</td><td>prd9004</td><td>4</td><td>2</td><td>{1000, 900, 100}</td><td>Mumbai</td><td>India</td><td>400064</td><td>Malad</td><td>Maharastra</td></tr>\n",
       "</table>\n"
      ],
      "text/plain": [
       "+----------------------------------------------------------------------------------------------------+------------+----------------------------------------------------------------------------------------------------+----------+-------+-----------------------+---------------------------------+-------------------------------------------+---------+--------+--------+----------------+------+-------+----------+--------+----------+\n",
       "|                                                                                            datasets|    filename|                                                                                              orders|customerId|orderId|              orderDate|                     orderDetails|                            shipmentDetails|productId|quantity|sequence|      totalPrice|  city|country|postalcode|  street|     state|\n",
       "+----------------------------------------------------------------------------------------------------+------------+----------------------------------------------------------------------------------------------------+----------+-------+-----------------------+---------------------------------+-------------------------------------------+---------+--------+--------+----------------+------+-------+----------+--------+----------+\n",
       "|[{cust5001, 2021-12-24 00.00.00.000, [{prd9001, 2, 1, {550, 500, 50}}, {prd9002, 3, 2, {300, 240,...|orderDetails|{cust5001, 2021-12-24 00.00.00.000, [{prd9001, 2, 1, {550, 500, 50}}, {prd9002, 3, 2, {300, 240, ...|  cust5001|ord1001|2021-12-24 00.00.00.000|  {prd9001, 2, 1, {550, 500, 50}}|{Delhi, India, 110040, New Delhi, M.G.Road}|  prd9001|       2|       1|  {550, 500, 50}| Delhi|  India|    110040|M.G.Road| New Delhi|\n",
       "|[{cust5001, 2021-12-24 00.00.00.000, [{prd9001, 2, 1, {550, 500, 50}}, {prd9002, 3, 2, {300, 240,...|orderDetails|{cust5001, 2021-12-24 00.00.00.000, [{prd9001, 2, 1, {550, 500, 50}}, {prd9002, 3, 2, {300, 240, ...|  cust5001|ord1001|2021-12-24 00.00.00.000|  {prd9002, 3, 2, {300, 240, 60}}|{Delhi, India, 110040, New Delhi, M.G.Road}|  prd9002|       3|       2|  {300, 240, 60}| Delhi|  India|    110040|M.G.Road| New Delhi|\n",
       "|[{cust5001, 2021-12-24 00.00.00.000, [{prd9001, 2, 1, {550, 500, 50}}, {prd9002, 3, 2, {300, 240,...|orderDetails|{cust5002, 2021-12-25 00.00.00.000, [{prd9001, 1, 1, {275, 250, 25}}, {prd9004, 4, 2, {1000, 900,...|  cust5002|ord1002|2021-12-25 00.00.00.000|  {prd9001, 1, 1, {275, 250, 25}}| {Mumbai, India, 400064, Maharastra, Malad}|  prd9001|       1|       1|  {275, 250, 25}|Mumbai|  India|    400064|   Malad|Maharastra|\n",
       "|[{cust5001, 2021-12-24 00.00.00.000, [{prd9001, 2, 1, {550, 500, 50}}, {prd9002, 3, 2, {300, 240,...|orderDetails|{cust5002, 2021-12-25 00.00.00.000, [{prd9001, 1, 1, {275, 250, 25}}, {prd9004, 4, 2, {1000, 900,...|  cust5002|ord1002|2021-12-25 00.00.00.000|{prd9004, 4, 2, {1000, 900, 100}}| {Mumbai, India, 400064, Maharastra, Malad}|  prd9004|       4|       2|{1000, 900, 100}|Mumbai|  India|    400064|   Malad|Maharastra|\n",
       "+----------------------------------------------------------------------------------------------------+------------+----------------------------------------------------------------------------------------------------+----------+-------+-----------------------+---------------------------------+-------------------------------------------+---------+--------+--------+----------------+------+-------+----------+--------+----------+"
      ]
     },
     "metadata": {},
     "output_type": "display_data"
    }
   ],
   "source": [
    "parseOrdersDf = parseOrdersDf.withColumn(\"productId\", parseOrdersDf.orderDetails.getItem(\"productId\"))\\\n",
    "                             .withColumn(\"quantity\", parseOrdersDf.orderDetails.getItem(\"quantity\"))\\\n",
    "                             .withColumn(\"sequence\", parseOrdersDf.orderDetails.getItem(\"sequence\"))\\\n",
    "                             .withColumn(\"totalPrice\", parseOrdersDf.orderDetails.getItem(\"totalPrice\"))\\\n",
    "                             .withColumn(\"city\", parseOrdersDf.shipmentDetails.getItem(\"city\"))\\\n",
    "                             .withColumn(\"country\", parseOrdersDf.shipmentDetails.getItem(\"country\"))\\\n",
    "                             .withColumn(\"postalcode\", parseOrdersDf.shipmentDetails.getItem(\"postalCode\"))\\\n",
    "                             .withColumn(\"street\", parseOrdersDf.shipmentDetails.getItem(\"street\"))\\\n",
    "                             .withColumn(\"state\", parseOrdersDf.shipmentDetails.getItem(\"state\"))\n",
    "display(parseOrdersDf)"
   ]
  },
  {
   "cell_type": "code",
   "execution_count": null,
   "id": "4bcfc540-da40-4db4-836c-71e20678be0a",
   "metadata": {},
   "outputs": [],
   "source": []
  },
  {
   "cell_type": "code",
   "execution_count": null,
   "id": "bba734ff-b124-4b36-a161-18abb51d8a7d",
   "metadata": {},
   "outputs": [],
   "source": []
  }
 ],
 "metadata": {
  "kernelspec": {
   "display_name": "Python 3 (ipykernel)",
   "language": "python",
   "name": "python3"
  },
  "language_info": {
   "codemirror_mode": {
    "name": "ipython",
    "version": 3
   },
   "file_extension": ".py",
   "mimetype": "text/x-python",
   "name": "python",
   "nbconvert_exporter": "python",
   "pygments_lexer": "ipython3",
   "version": "3.9.12"
  }
 },
 "nbformat": 4,
 "nbformat_minor": 5
}
